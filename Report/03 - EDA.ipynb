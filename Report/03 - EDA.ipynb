{
 "cells": [
  {
   "cell_type": "markdown",
   "id": "15a6007b",
   "metadata": {},
   "source": [
    "# EDA\n",
    "\n",
    "In this file, we investigate the dataset to get a better picture of the data we are working with.\n",
    "\n",
    "### Setup"
   ]
  },
  {
   "cell_type": "code",
   "execution_count": 1,
   "id": "ac4128f9",
   "metadata": {},
   "outputs": [],
   "source": [
    "import pandas as pd\n",
    "import numpy as np\n",
    "import matplotlib.pyplot as plt"
   ]
  },
  {
   "cell_type": "markdown",
   "id": "1996ecf1",
   "metadata": {},
   "source": [
    "### Importing and viewing the data"
   ]
  },
  {
   "cell_type": "code",
   "execution_count": 2,
   "id": "ec885e7d",
   "metadata": {},
   "outputs": [],
   "source": [
    "df = pd.read_csv('Data/PreProcessedData.csv')"
   ]
  },
  {
   "cell_type": "code",
   "execution_count": 3,
   "id": "9eebd747",
   "metadata": {},
   "outputs": [
    {
     "data": {
      "text/html": [
       "<div>\n",
       "<style scoped>\n",
       "    .dataframe tbody tr th:only-of-type {\n",
       "        vertical-align: middle;\n",
       "    }\n",
       "\n",
       "    .dataframe tbody tr th {\n",
       "        vertical-align: top;\n",
       "    }\n",
       "\n",
       "    .dataframe thead th {\n",
       "        text-align: right;\n",
       "    }\n",
       "</style>\n",
       "<table border=\"1\" class=\"dataframe\">\n",
       "  <thead>\n",
       "    <tr style=\"text-align: right;\">\n",
       "      <th></th>\n",
       "      <th>IMDbRating</th>\n",
       "      <th>Title</th>\n",
       "      <th>Year</th>\n",
       "      <th>Plot</th>\n",
       "      <th>Action</th>\n",
       "      <th>Adult</th>\n",
       "      <th>Adventure</th>\n",
       "      <th>Animation</th>\n",
       "      <th>Biography</th>\n",
       "      <th>Comedy</th>\n",
       "      <th>...</th>\n",
       "      <th>Zac Efron</th>\n",
       "      <th>Zach Braff</th>\n",
       "      <th>Zach Galifianakis</th>\n",
       "      <th>Zachary Quinto</th>\n",
       "      <th>Zazie Beetz</th>\n",
       "      <th>Zoe Kazan</th>\n",
       "      <th>Zoe Saldana</th>\n",
       "      <th>Zoey Deutch</th>\n",
       "      <th>Zooey Deschanel</th>\n",
       "      <th>Zoë Kravitz</th>\n",
       "    </tr>\n",
       "  </thead>\n",
       "  <tbody>\n",
       "    <tr>\n",
       "      <th>0</th>\n",
       "      <td>7.1</td>\n",
       "      <td>Aberdeen</td>\n",
       "      <td>2000</td>\n",
       "      <td>Kaisa is a Scot, a successful London lawyer, w...</td>\n",
       "      <td>0</td>\n",
       "      <td>0</td>\n",
       "      <td>0</td>\n",
       "      <td>0</td>\n",
       "      <td>0</td>\n",
       "      <td>0</td>\n",
       "      <td>...</td>\n",
       "      <td>0</td>\n",
       "      <td>0</td>\n",
       "      <td>0</td>\n",
       "      <td>0</td>\n",
       "      <td>0</td>\n",
       "      <td>0</td>\n",
       "      <td>0</td>\n",
       "      <td>0</td>\n",
       "      <td>0</td>\n",
       "      <td>0</td>\n",
       "    </tr>\n",
       "    <tr>\n",
       "      <th>1</th>\n",
       "      <td>4.1</td>\n",
       "      <td>The Asylum</td>\n",
       "      <td>2000</td>\n",
       "      <td>Plagued by endless visions and nightmares, Jen...</td>\n",
       "      <td>0</td>\n",
       "      <td>0</td>\n",
       "      <td>0</td>\n",
       "      <td>0</td>\n",
       "      <td>0</td>\n",
       "      <td>0</td>\n",
       "      <td>...</td>\n",
       "      <td>0</td>\n",
       "      <td>0</td>\n",
       "      <td>0</td>\n",
       "      <td>0</td>\n",
       "      <td>0</td>\n",
       "      <td>0</td>\n",
       "      <td>0</td>\n",
       "      <td>0</td>\n",
       "      <td>0</td>\n",
       "      <td>0</td>\n",
       "    </tr>\n",
       "    <tr>\n",
       "      <th>2</th>\n",
       "      <td>6.6</td>\n",
       "      <td>The Beach</td>\n",
       "      <td>2000</td>\n",
       "      <td>Garland's novel centers on a young nicotine-ad...</td>\n",
       "      <td>0</td>\n",
       "      <td>0</td>\n",
       "      <td>1</td>\n",
       "      <td>0</td>\n",
       "      <td>0</td>\n",
       "      <td>0</td>\n",
       "      <td>...</td>\n",
       "      <td>0</td>\n",
       "      <td>0</td>\n",
       "      <td>0</td>\n",
       "      <td>0</td>\n",
       "      <td>0</td>\n",
       "      <td>0</td>\n",
       "      <td>0</td>\n",
       "      <td>0</td>\n",
       "      <td>0</td>\n",
       "      <td>0</td>\n",
       "    </tr>\n",
       "    <tr>\n",
       "      <th>3</th>\n",
       "      <td>5.6</td>\n",
       "      <td>Beautiful Joe</td>\n",
       "      <td>2000</td>\n",
       "      <td>In the Bronx, Joe (Sir Billy Connolly), an Iri...</td>\n",
       "      <td>0</td>\n",
       "      <td>0</td>\n",
       "      <td>0</td>\n",
       "      <td>0</td>\n",
       "      <td>0</td>\n",
       "      <td>1</td>\n",
       "      <td>...</td>\n",
       "      <td>0</td>\n",
       "      <td>0</td>\n",
       "      <td>0</td>\n",
       "      <td>0</td>\n",
       "      <td>0</td>\n",
       "      <td>0</td>\n",
       "      <td>0</td>\n",
       "      <td>0</td>\n",
       "      <td>0</td>\n",
       "      <td>0</td>\n",
       "    </tr>\n",
       "    <tr>\n",
       "      <th>4</th>\n",
       "      <td>7.7</td>\n",
       "      <td>Billy Elliot</td>\n",
       "      <td>2000</td>\n",
       "      <td>County Durham, during the endless, violent 198...</td>\n",
       "      <td>0</td>\n",
       "      <td>0</td>\n",
       "      <td>0</td>\n",
       "      <td>0</td>\n",
       "      <td>0</td>\n",
       "      <td>0</td>\n",
       "      <td>...</td>\n",
       "      <td>0</td>\n",
       "      <td>0</td>\n",
       "      <td>0</td>\n",
       "      <td>0</td>\n",
       "      <td>0</td>\n",
       "      <td>0</td>\n",
       "      <td>0</td>\n",
       "      <td>0</td>\n",
       "      <td>0</td>\n",
       "      <td>0</td>\n",
       "    </tr>\n",
       "  </tbody>\n",
       "</table>\n",
       "<p>5 rows × 958 columns</p>\n",
       "</div>"
      ],
      "text/plain": [
       "   IMDbRating          Title  Year  \\\n",
       "0         7.1       Aberdeen  2000   \n",
       "1         4.1     The Asylum  2000   \n",
       "2         6.6      The Beach  2000   \n",
       "3         5.6  Beautiful Joe  2000   \n",
       "4         7.7   Billy Elliot  2000   \n",
       "\n",
       "                                                Plot  Action  Adult  \\\n",
       "0  Kaisa is a Scot, a successful London lawyer, w...       0      0   \n",
       "1  Plagued by endless visions and nightmares, Jen...       0      0   \n",
       "2  Garland's novel centers on a young nicotine-ad...       0      0   \n",
       "3  In the Bronx, Joe (Sir Billy Connolly), an Iri...       0      0   \n",
       "4  County Durham, during the endless, violent 198...       0      0   \n",
       "\n",
       "   Adventure  Animation  Biography  Comedy  ...  Zac Efron  Zach Braff  \\\n",
       "0          0          0          0       0  ...          0           0   \n",
       "1          0          0          0       0  ...          0           0   \n",
       "2          1          0          0       0  ...          0           0   \n",
       "3          0          0          0       1  ...          0           0   \n",
       "4          0          0          0       0  ...          0           0   \n",
       "\n",
       "   Zach Galifianakis  Zachary Quinto  Zazie Beetz  Zoe Kazan  Zoe Saldana  \\\n",
       "0                  0               0            0          0            0   \n",
       "1                  0               0            0          0            0   \n",
       "2                  0               0            0          0            0   \n",
       "3                  0               0            0          0            0   \n",
       "4                  0               0            0          0            0   \n",
       "\n",
       "   Zoey Deutch  Zooey Deschanel  Zoë Kravitz  \n",
       "0            0                0            0  \n",
       "1            0                0            0  \n",
       "2            0                0            0  \n",
       "3            0                0            0  \n",
       "4            0                0            0  \n",
       "\n",
       "[5 rows x 958 columns]"
      ]
     },
     "execution_count": 3,
     "metadata": {},
     "output_type": "execute_result"
    }
   ],
   "source": [
    "df[0:5]"
   ]
  },
  {
   "cell_type": "code",
   "execution_count": 4,
   "id": "f174bfed",
   "metadata": {},
   "outputs": [
    {
     "name": "stdout",
     "output_type": "stream",
     "text": [
      "Number of Rows:  6514\n",
      "Number of Columns:  958\n"
     ]
    }
   ],
   "source": [
    "rows = len(df.axes[0])\n",
    "cols = len(df.axes[1])\n",
    "\n",
    "print(\"Number of Rows: \", rows)\n",
    "print(\"Number of Columns: \", cols)"
   ]
  },
  {
   "cell_type": "markdown",
   "id": "3b5ed78d",
   "metadata": {},
   "source": [
    "### IMDb rating\n",
    "\n",
    "Let's first look at the distribution of IMDb ratings.\n",
    "\n"
   ]
  },
  {
   "cell_type": "code",
   "execution_count": 5,
   "id": "b3172330",
   "metadata": {},
   "outputs": [
    {
     "name": "stdout",
     "output_type": "stream",
     "text": [
      "[7.1, 4.1, 6.6, 5.6, 7.7]\n"
     ]
    }
   ],
   "source": [
    "ratings = list(df.loc[:,\"IMDbRating\"])\n",
    "print(ratings[:5])"
   ]
  },
  {
   "cell_type": "code",
   "execution_count": 6,
   "id": "bcdca4ab",
   "metadata": {},
   "outputs": [
    {
     "data": {
      "image/png": "[encoded data removed]",
      "text/plain": [
       "<Figure size 640x480 with 1 Axes>"
      ]
     },
     "metadata": {},
     "output_type": "display_data"
    },
    {
     "data": {
      "text/plain": [
       "6.198679766656402"
      ]
     },
     "execution_count": 6,
     "metadata": {},
     "output_type": "execute_result"
    }
   ],
   "source": [
    "plt.hist(ratings, bins=20)\n",
    "plt.show()\n",
    "sum(ratings)/len(ratings)"
   ]
  },
  {
   "cell_type": "markdown",
   "id": "a783ae4d",
   "metadata": {},
   "source": [
    "The above histogram shows that the ratings approximately follow a bell curve slightly skewed towards higher scores. The average rating is just over 6, and most ratings are between 4 and 8, so we expect our model to predict mostly in this range. The fact that there is a good spread of ratings, rather than a few numbers dominating the dataset, is good news for our prediction problem as it means that we can't obtain a high accuracy on the training data by predicting the same value for each observation."
   ]
  },
  {
   "cell_type": "markdown",
   "id": "f4981e6b",
   "metadata": {},
   "source": [
    "### Year\n",
    "\n",
    "Next let's look at the years the films were released. "
   ]
  },
  {
   "cell_type": "code",
   "execution_count": 7,
   "id": "772a778e",
   "metadata": {},
   "outputs": [
    {
     "data": {
      "image/png": "[encoded data removed]",
      "text/plain": [
       "<Figure size 1400x800 with 1 Axes>"
      ]
     },
     "metadata": {},
     "output_type": "display_data"
    }
   ],
   "source": [
    "#grabbing the year column\n",
    "v1 = df[['Year']] \n",
    "#filtering values appearing more than 10 times\n",
    "v2 = df[v1.replace(v1.stack().value_counts()).gt(10).all(1)]\n",
    "#plot counts\n",
    "ax = v2['Year'].value_counts().sort_index().plot(kind='bar',\n",
    "                                    figsize=(14,8),\n",
    "                                    title=\"Counts for each year\")"
   ]
  },
  {
   "cell_type": "markdown",
   "id": "0d8a3353",
   "metadata": {},
   "source": [
    "The most common year for films in our dataset is 2008, however we have a good amount of films from each year from 200 onwards.\n",
    "\n",
    "Do IMDb ratings vary by year?"
   ]
  },
  {
   "cell_type": "code",
   "execution_count": 11,
   "id": "84220860",
   "metadata": {},
   "outputs": [
    {
     "name": "stdout",
     "output_type": "stream",
     "text": [
      "Year\n",
      "2000    6.129218\n",
      "2001    6.203614\n",
      "2002    6.268443\n",
      "2003    6.113617\n",
      "2004    6.242081\n",
      "2005    6.236765\n",
      "2006    6.226923\n",
      "2007    6.240959\n",
      "2008    6.258859\n",
      "2009    6.285492\n",
      "2010    6.299145\n",
      "2011    6.179677\n",
      "2012    6.194242\n",
      "2013    6.157911\n",
      "2014    6.100297\n",
      "2015    6.292920\n",
      "2016    6.337050\n",
      "2017    6.295541\n",
      "2018    6.198777\n",
      "2019    6.273163\n",
      "2020    5.996321\n",
      "2021    6.099379\n",
      "2022    5.985069\n",
      "Name: IMDbRating, dtype: float64\n"
     ]
    },
    {
     "data": {
      "image/png": "[encoded data removed]",
      "text/plain": [
       "<Figure size 640x480 with 1 Axes>"
      ]
     },
     "metadata": {},
     "output_type": "display_data"
    }
   ],
   "source": [
    "plt.scatter(v2['Year'], v2['IMDbRating'], s= 2)\n",
    "means = df.groupby('Year')['IMDbRating'].mean()\n",
    "print(means)\n",
    "for year, mean_rating in means.items():\n",
    "    plt.scatter(year, mean_rating, color='red', marker='x')\n",
    "plt.show()"
   ]
  },
  {
   "cell_type": "markdown",
   "id": "889aa6f5",
   "metadata": {},
   "source": [
    "The year doesn't appear to make much difference to the imdb rating.\n",
    "\n",
    "### Genres\n",
    "\n",
    "We now take a look at the distribution of genres in the dataset."
   ]
  },
  {
   "cell_type": "code",
   "execution_count": 6,
   "id": "fc2a317b",
   "metadata": {},
   "outputs": [
    {
     "data": {
      "text/plain": [
       "Adult             1\n",
       "Adventure      1029\n",
       "Animation       353\n",
       "Biography       545\n",
       "Comedy         2406\n",
       "Crime          1037\n",
       "Documentary     323\n",
       "Drama          3479\n",
       "Family          350\n",
       "Fantasy         419\n",
       "Film-Noir         0\n",
       "History         230\n",
       "Horror          742\n",
       "Music           263\n",
       "Musical          68\n",
       "Mystery         599\n",
       "News              3\n",
       "Reality-TV        1\n",
       "Romance        1033\n",
       "Sci-Fi          409\n",
       "Short            27\n",
       "Sport           183\n",
       "Thriller       1044\n",
       "War             106\n",
       "Western          28\n",
       "dtype: int64"
      ]
     },
     "execution_count": 6,
     "metadata": {},
     "output_type": "execute_result"
    }
   ],
   "source": [
    "# remove irrelevant columns\n",
    "df2 = df.drop(columns=[\"IMDbRating\", \"Title\", \"Year\", \"Plot\"])\n",
    "df2 = df2.iloc[:,1:26]\n",
    "# get column sums\n",
    "counts = df2.sum(0)\n",
    "counts"
   ]
  },
  {
   "cell_type": "code",
   "execution_count": 7,
   "id": "815c48ff",
   "metadata": {},
   "outputs": [
    {
     "data": {
      "text/plain": [
       "<BarContainer object of 25 artists>"
      ]
     },
     "execution_count": 7,
     "metadata": {},
     "output_type": "execute_result"
    },
    {
     "data": {
      "image/png": "[encoded data removed]",
      "text/plain": [
       "<Figure size 432x288 with 1 Axes>"
      ]
     },
     "metadata": {
      "needs_background": "light"
     },
     "output_type": "display_data"
    }
   ],
   "source": [
    "plt.xticks(rotation='vertical')\n",
    "plt.bar(counts.index, counts.values)"
   ]
  },
  {
   "cell_type": "markdown",
   "id": "f6d83f2e",
   "metadata": {},
   "source": [
    "We can see that the most common film genre is the rather vague 'drama', followed by comedy. 7 genres appear more than 1000 times, so it will be interesting to see whether the number of topics in the topic models lines up with this."
   ]
  }
 ],
 "metadata": {
  "kernelspec": {
   "display_name": "Python 3 (ipykernel)",
   "language": "python",
   "name": "python3"
  },
  "language_info": {
   "codemirror_mode": {
    "name": "ipython",
    "version": 3
   },
   "file_extension": ".py",
   "mimetype": "text/x-python",
   "name": "python",
   "nbconvert_exporter": "python",
   "pygments_lexer": "ipython3",
   "version": "3.9.12"
  }
 },
 "nbformat": 4,
 "nbformat_minor": 5
}
