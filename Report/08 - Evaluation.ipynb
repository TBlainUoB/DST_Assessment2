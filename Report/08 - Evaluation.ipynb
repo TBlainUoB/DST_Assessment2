{
 "cells": [
  {
   "attachments": {},
   "cell_type": "markdown",
   "metadata": {},
   "source": [
    "## Similarities and differences between LDA and HDP\n",
    "HDP can be seen as an extension of LDA. In LDA, the user has to specify the number of topics as a parameter of the model. In HDP, on the other hand, one treats the number of topics as a random variable and determines the number of topics by means of a Dirichlet process. Thus, HDP can learn the maximum number of topics from a document with an unknown number of topics. \n",
    "\n",
    "In the LDA model, the output combines the documents into a pre-determined number of combinations. Eventually words or terms are clustered into topics.In HDP, the topics are modelled as a mixture of words, but the output is a combination of a fixed number of topics. This part is also the part that differs from LDA.In general, HDP is suitable for documents where the number of topics cannot be estimated under a priori conditions.\n",
    "\n",
    "As in simpler finite mixture models, it is natural to try to extend LDA and related models by using DPs to capture uncertainty regarding the number of mixture components. This is somewhat more difficult than in the case of a simple mixture model, however, because in the LDA model the documents have document-specific mixing proportions. We thus require multiple DPs, one for each document. This then poses the problem of sharing mixture components across multiple DPs, precisely the problem that the hierarchical DP is designed to solve.（Hierarchical Dirichlet Processes, 2012） The hierarchical DP extension of LDA thus takes the following form. Given an underlying measure H on multinomial probability vectors, we select a random measure, Go, which provides a countably infinite collection of multinomial probability vectors; these can be viewed as the set of all topics that can be used in a given corpus. \n",
    "\n",
    "## Advantages of the model in different situations \n",
    "\n",
    "The main advantage of HDP over LDA is that the number of subjects can be set without the need for a predetermined parameter. In HDP, it is used as a non-parametric topic model, but the model is more complex to solve. In this assessment, however, both types of methods take a long time to build and train the model.\n",
    "Therefore, I think that the thematic model could be improved in a number of ways, for example: \n",
    "\n",
    "1. Serial operations are mostly used in the building of the model, which makes the operations a lot slower. Therefore, I think a theme model with parallel computing would have no small advantage. \n",
    "\n",
    "2. In the few types of theme models that I have come across, most of them are unsupervised learning, but the datasets mostly come with annotations. Therefore, a supervised topic model might be better for clustering"
   ]
  }
 ],
 "metadata": {
  "language_info": {
   "name": "python"
  },
  "orig_nbformat": 4
 },
 "nbformat": 4,
 "nbformat_minor": 2
}
