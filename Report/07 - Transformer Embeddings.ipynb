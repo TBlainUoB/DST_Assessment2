{
 "cells": [
  {
   "cell_type": "code",
   "execution_count": 10,
   "outputs": [],
   "source": [
    "import pandas as pd\n",
    "import torch\n",
    "import torch.nn.functional as F\n",
    "from torch.utils.data import DataLoader\n",
    "from transformers import AutoTokenizer, AutoModel\n",
    "\n",
    "torch.cuda.empty_cache()\n",
    "\n",
    "# Define the mean pooling function\n",
    "def mean_pooling(model_output, attention_mask):\n",
    "    token_embeddings = model_output[0] #First element of model_output contains all token embeddings\n",
    "    input_mask_expanded = attention_mask.unsqueeze(-1).expand(token_embeddings.size()).float()\n",
    "    return torch.sum(token_embeddings * input_mask_expanded, 1) / torch.clamp(input_mask_expanded.sum(1), min=1e-9)\n",
    "\n",
    "# Dataloader for embedding loop\n",
    "class MyDataset(torch.utils.data.Dataset):\n",
    "    def __init__(self, texts):\n",
    "        self.texts = texts\n",
    "\n",
    "    def __getitem__(self, index):\n",
    "        text = self.texts[index]\n",
    "        return text\n",
    "\n",
    "    def __len__(self):\n",
    "        return len(self.texts)\n",
    "\n",
    "tokenizer = AutoTokenizer.from_pretrained('sentence-transformers/all-mpnet-base-v2')\n",
    "model = AutoModel.from_pretrained('sentence-transformers/all-mpnet-base-v2')\n",
    "\n",
    "df = pd.read_csv('Data/PreProcessedData.csv')\n",
    "\n",
    "# Concatenate the 'Title' and 'Plot' columns\n",
    "texts = df['Title'] + ' ' + df['Plot']\n",
    "\n",
    "# Create a custom dataset and dataloader\n",
    "dataset = MyDataset(texts)\n",
    "dataloader = DataLoader(dataset, batch_size=16, shuffle=False)\n",
    "\n",
    "# Move the model to GPU\n",
    "model.to('cuda')\n",
    "\n",
    "# Compute the embeddings for the texts\n",
    "embeddings = []\n",
    "with torch.no_grad():\n",
    "    for batch in dataloader:\n",
    "        encoded_input = tokenizer(batch, padding=True, truncation=True, return_tensors='pt').to('cuda')\n",
    "        model_output = model(**encoded_input)\n",
    "        embedding = mean_pooling(model_output, encoded_input['attention_mask'])\n",
    "        embeddings.append(embedding)\n",
    "embeddings = torch.cat(embeddings, dim=0)\n",
    "embeddings = F.normalize(embeddings, p=2, dim=1)\n",
    "\n",
    "# Move the embeddings to CPU and convert to a DataFrame\n",
    "df_embeddings = pd.DataFrame(embeddings.to('cpu').numpy())\n",
    "df = df.drop('Plot', axis=1)\n",
    "df = df.drop('Title', axis=1)\n",
    "\n",
    "df_concatenated = pd.concat([df, df_embeddings], axis=1)\n",
    "# Save the concatenated DataFrame to a CSV file\n",
    "df_concatenated.to_csv('Data/PreProcessedData_with_HF_embeddings.csv', index=False)\n"
   ],
   "metadata": {
    "collapsed": false
   }
  }
 ],
 "metadata": {
  "kernelspec": {
   "display_name": "Python 3",
   "language": "python",
   "name": "python3"
  },
  "language_info": {
   "codemirror_mode": {
    "name": "ipython",
    "version": 2
   },
   "file_extension": ".py",
   "mimetype": "text/x-python",
   "name": "python",
   "nbconvert_exporter": "python",
   "pygments_lexer": "ipython2",
   "version": "2.7.6"
  }
 },
 "nbformat": 4,
 "nbformat_minor": 0
}
