{
 "cells": [
  {
   "cell_type": "markdown",
   "id": "413d63e3",
   "metadata": {},
   "source": [
    "#Text Preprocessing\n",
    "##Part 1: Basic Preprocessing\n",
    "Here we will be looking at reducing the plots down into a workable list of tokens. The idea here is to simplify as much as possible whilst still keeping useful information about the plot."
   ]
  },
  {
   "cell_type": "code",
   "execution_count": 1,
   "id": "b6516f63",
   "metadata": {},
   "outputs": [],
   "source": [
    "import pandas as pd\n",
    "import numpy as np"
   ]
  },
  {
   "cell_type": "code",
   "execution_count": 2,
   "id": "f74c6b94",
   "metadata": {},
   "outputs": [],
   "source": [
    "#Loading in data frame\n",
    "data=pd.read_csv('Data\\PreProcessedData.csv')\n",
    "#Creating list of film plots as a list of strings\n",
    "plots=data.Plot"
   ]
  },
  {
   "cell_type": "markdown",
   "id": "0473a0e7",
   "metadata": {},
   "source": [
    "We begin by performing basic edits to the text. These include lowercasing all words for simplicity and removing unnecesary punctuation. One problem we found was hyphens in words were not counted as punctuation and left two words represented as one, such as 'ill-timed'. To fix this we split the word into by replacing the hyphen with a space."
   ]
  },
  {
   "cell_type": "code",
   "execution_count": 3,
   "id": "33f41241",
   "metadata": {},
   "outputs": [],
   "source": [
    "#BASIC TEXT EDITS\n",
    "import re\n",
    "#Switching out hyphens for spaces\n",
    "plots=[str(plots[num]).replace('-',' ') for num in range(len(plots))]\n",
    "# Removing punctuation\n",
    "plots=[re.sub(r'[^\\w\\s]','', str(plots[num])) for num in range(len(plots))]\n",
    "# Lowercasing the words\n",
    "plots=[str(plots[num]).lower() for num in range(len(plots))]"
   ]
  },
  {
   "cell_type": "markdown",
   "id": "d007ddf0",
   "metadata": {},
   "source": [
    "Next we remove all words that we know will be irrelevant in the final model. These include prepositions such as 'above, behind, with', predeterminers such as 'both, many', and pronouns etc. Fortunately in natural language processing these are recognised as 'stopwords'. We can simply import a pre-made list of stopwords in the English language and remove them from our text. Once these are gone, we 'tokenize' our text: turning into a list of every word that appears. (Note: this automatically removes duplicates)"
   ]
  },
  {
   "cell_type": "code",
   "execution_count": 4,
   "id": "6f63024d",
   "metadata": {},
   "outputs": [],
   "source": [
    "#REMOVING STOP WORDS AND TOKENIZING\n",
    "import nltk\n",
    "from nltk.corpus import stopwords\n",
    "from nltk.tokenize import word_tokenize\n",
    "\n",
    "#Define english stop words\n",
    "stop_words = set(stopwords.words('english'))\n",
    "\n",
    "#Define function for removing stop words + tokenizing\n",
    "def stopntokenize(text):\n",
    "    word_tokens = word_tokenize(text)\n",
    "    new_text = []\n",
    "    for w in word_tokens:\n",
    "        if w not in stop_words:\n",
    "            new_text.append(w)\n",
    "    return(new_text)\n",
    "    "
   ]
  },
  {
   "cell_type": "markdown",
   "id": "2187774b",
   "metadata": {},
   "source": [
    "Whilst removing stopwords does a lot to remove unnecessary words, we can also go one step further and remove anything that isn't an adjective, verb or noun. (We presume here that adverbs will be irrelevant to our final model as they rarely seem to provide a unique description of the text). To do this we use nltk's built in function for classifying each word."
   ]
  },
  {
   "cell_type": "code",
   "execution_count": 5,
   "id": "1e9f5f69",
   "metadata": {},
   "outputs": [],
   "source": [
    "#WORDREMOVER\n",
    "\n",
    "#Defining function for removing any word not a Noun, Adjective or Verb\n",
    "def wordremover(tokens):\n",
    "    wordtypes = nltk.pos_tag(tokens)\n",
    "    tokens_new=[]\n",
    "    for i in range(len(tokens)):\n",
    "        if wordtypes[i][1] in ['NN','NNP','JJ','JJR','JJS','VB','VBD','VBG','VBN','VBP','VBZ']:\n",
    "            tokens_new.append(tokens[i])\n",
    "    return(tokens_new)"
   ]
  },
  {
   "cell_type": "markdown",
   "id": "fbe28aa6",
   "metadata": {},
   "source": [
    "Now that we have only our most important words, the next step is to reduce them down into their simplest form, or their 'stem'. For instance, we would like the words 'drink','drinks', and 'drinking' to all be shortened to 'drink' for simplicity. Whilst separate functions exist for stemming and lemmatizing separately such as PorterStemmer in nltk, we found that these tended to be quite bad at over or understemming for anything other than verbs. Wordnet's built in function 'morphy' seemed to work the best in reducing any word down without many errors."
   ]
  },
  {
   "cell_type": "code",
   "execution_count": 6,
   "id": "82e0796a",
   "metadata": {},
   "outputs": [],
   "source": [
    "#LEAMMATIZING AND STEMMING\n",
    "from nltk.corpus import wordnet\n",
    "\n",
    "#Defining function to reduce word down it's simplest form\n",
    "def lemmanstem(tokens):\n",
    "    new_tokens=[]\n",
    "    for i in range(len(tokens)):\n",
    "        if wordnet.morphy(tokens[i])==None:\n",
    "            new_tokens.append(tokens[i])\n",
    "        else:\n",
    "            new_tokens.append(wordnet.morphy(tokens[i]))\n",
    "    return(new_tokens)   "
   ]
  },
  {
   "cell_type": "code",
   "execution_count": 7,
   "id": "8dd49548",
   "metadata": {},
   "outputs": [],
   "source": [
    "#NONE REMOVER\n",
    "\n",
    "#Defining function to remove Nones\n",
    "def noneremover(tokens):\n",
    "    for i in range(len(tokens)):\n",
    "        if tokens[i]==None:\n",
    "            tokens.remove(tokens[i])"
   ]
  },
  {
   "cell_type": "markdown",
   "id": "6a579ddd",
   "metadata": {},
   "source": [
    "Now that we have all our functions defined, we can combine them all into one master function, which we use to turn the text as a string into a list of simplified tokens to use in our topic model."
   ]
  },
  {
   "cell_type": "code",
   "execution_count": 8,
   "id": "0ad99c20",
   "metadata": {},
   "outputs": [],
   "source": [
    "#STRING TO TOKENS\n",
    "def tokenizer(text):\n",
    "    token=stopntokenize(text)\n",
    "    token=wordremover(token)\n",
    "    token=lemmanstem(token)\n",
    "    token=list(dict.fromkeys(token))\n",
    "    noneremover(token)\n",
    "    return(token)"
   ]
  },
  {
   "cell_type": "markdown",
   "id": "d85cf340",
   "metadata": {},
   "source": [
    "To check how our tokenizer is working, let's try a short plot as an example, the plot to 'My Best Friend's Wedding'. On inspection this seems to be working well. All the stop words are gone, all the verbs have been reduced to their most basic form, and all the nouns are in a singular form."
   ]
  },
  {
   "cell_type": "code",
   "execution_count": 9,
   "id": "697f8322",
   "metadata": {},
   "outputs": [
    {
     "data": {
      "text/plain": [
       "'a woman who by a promise made years earlier is supposed to marry her best friend in three weeks even though she doesnt want to when she finds out that hes marrying someone else she becomes jealous and tries to break off the wedding'"
      ]
     },
     "execution_count": 9,
     "metadata": {},
     "output_type": "execute_result"
    }
   ],
   "source": [
    "example=plots[4]\n",
    "example"
   ]
  },
  {
   "cell_type": "code",
   "execution_count": 10,
   "id": "fd2c01cd",
   "metadata": {},
   "outputs": [
    {
     "data": {
      "text/plain": [
       "['woman',\n",
       " 'promise',\n",
       " 'make',\n",
       " 'suppose',\n",
       " 'marry',\n",
       " 'best',\n",
       " 'friend',\n",
       " 'doesnt',\n",
       " 'want',\n",
       " 'find',\n",
       " 'someone',\n",
       " 'become',\n",
       " 'jealous',\n",
       " 'break',\n",
       " 'wedding']"
      ]
     },
     "execution_count": 10,
     "metadata": {},
     "output_type": "execute_result"
    }
   ],
   "source": [
    "tokenizer(example)"
   ]
  },
  {
   "cell_type": "markdown",
   "id": "b0c4591a",
   "metadata": {},
   "source": [
    "This seems to work well in reducing the text to a few words, but let's try to see how this working on average across the whole dataset. On average, we can see that our tokenizer reduces the amount of words in the plot by about 93%, which is a massive reduction. Objectively, we have that each plot is reduced to about 40 words. This seems like a workable amount whilst still having the potential to include all relevant information about the plot."
   ]
  },
  {
   "cell_type": "code",
   "execution_count": 11,
   "id": "75ebe1a8",
   "metadata": {},
   "outputs": [
    {
     "data": {
      "text/plain": [
       "0.07198069794144195"
      ]
     },
     "execution_count": 11,
     "metadata": {},
     "output_type": "execute_result"
    }
   ],
   "source": [
    "#WORD REDUCTION \n",
    "\n",
    "#Calculating percentage reduction of words for plots and tokenized plots\n",
    "x=[]\n",
    "for i in range(4000):\n",
    "    x.append(len(tokenizer(plots[i]))/len(plots[i]))\n",
    "\n",
    "sum(x)/4000"
   ]
  },
  {
   "cell_type": "code",
   "execution_count": 12,
   "id": "1c8fd33f",
   "metadata": {},
   "outputs": [
    {
     "data": {
      "text/plain": [
       "38.78775"
      ]
     },
     "execution_count": 12,
     "metadata": {},
     "output_type": "execute_result"
    }
   ],
   "source": [
    "#DATA SIZE\n",
    "\n",
    "#Calculating average number of words per tokenized plot\n",
    "#i.e. number of words remaining after text preprocessing\n",
    "x=[]\n",
    "for i in range(4000):\n",
    "    x.append(len(tokenizer(plots[i])))\n",
    "\n",
    "sum(x)/4000"
   ]
  },
  {
   "cell_type": "markdown",
   "id": "11684271",
   "metadata": {},
   "source": [
    "Now that we are confident in the ability of our text preprocessing, we can apply our tokenizer to every plot in our dataset. This gives us the dataset that we will be using for the topic models in the following sections."
   ]
  },
  {
   "cell_type": "code",
   "execution_count": 74,
   "id": "cd72c677",
   "metadata": {},
   "outputs": [],
   "source": [
    "#CREATING DATASET OF TOKENIZED PLOTS\n",
    "token_plots=[]\n",
    "for i in range(len(plots)):\n",
    "    token_plots.append(tokenizer(plots[i]))"
   ]
  },
  {
   "cell_type": "markdown",
   "id": "128cfbb8",
   "metadata": {},
   "source": [
    "To use this list of lists in other python files, we convert each list into a string, save it to a .csv file, then this can be converted back into a list using the code below."
   ]
  },
  {
   "cell_type": "code",
   "execution_count": 14,
   "id": "82b41e78",
   "metadata": {},
   "outputs": [],
   "source": [
    "stringed_plots=[str(token_plots[num]) for num in range(len(token_plots))]\n",
    "df=pd.DataFrame(stringed_plots)\n",
    "df.to_csv('stringed_plots.csv')"
   ]
  },
  {
   "cell_type": "code",
   "execution_count": 15,
   "id": "02621aea",
   "metadata": {},
   "outputs": [],
   "source": [
    "#CODE FOR CONVERTING DATAFRAME OF STRINGS INTO LIST OF LISTS OF TOKENS\n",
    "#stringed_data=pd.read_csv('stringed_plots.csv')\n",
    "#tokenized_plots=[]\n",
    "#for i in range(0,len(stringed_data)):\n",
    "#    data=np.array(stringed_data.iloc[i])\n",
    "#    text=data[1]\n",
    "#    text=text.replace(',','')\n",
    "#    text=text.replace('[','')\n",
    "#    text=text.replace(']','')\n",
    "#    text=text.replace(\"'\",'')\n",
    "#    tokens=word_tokenize(text)\n",
    "#    tokenized_plots.append(tokens)"
   ]
  },
  {
   "cell_type": "markdown",
   "id": "18820e2d",
   "metadata": {},
   "source": [
    "##Part 2: Synonym extension\n",
    "\n",
    "This is a good point to stop with the preprocessing, although we can potentially go one step further and look at the effect of synonyms. One potential issue when creating the topic model is removing words which do not appear too often in the dictionary. The problem here is that this potentially removes rarer synonyms of a more common word, whilst both could potentially be significant to the topic. For instance, 'conflict, war, battle, skirmish' all mean pretty much the same thing, and we would expect them to be significant to our model if they appear in a plot. However out of these 'war' is probably going to appear a lot more than the other three, so it could be that the other three are unjustly removed. It would be beneficial to us if we could reduce 'conflict, battle, skirmish' to 'war', which would essentially save these words from being removed. \n",
    "\n",
    "Hence we need a function that takes a word, checks all its potential synonyms, and then picks the one most likely to be kept after removing extremes in our dictionary."
   ]
  },
  {
   "cell_type": "markdown",
   "id": "767f50c2",
   "metadata": {},
   "source": [
    "To start, we need to create a ranking of all words in the tokenized plots based off how much they are repeated throughout our dataset. This will come in useful when defining our synonym function. We start by creating a dictionary of all words, and then a dictionary with extremes removed."
   ]
  },
  {
   "cell_type": "code",
   "execution_count": 16,
   "id": "75eba514",
   "metadata": {},
   "outputs": [],
   "source": [
    "#CREATING DICTIONARY\n",
    "import gensim\n",
    "\n",
    "dictionary = gensim.corpora.Dictionary(token_plots)\n",
    "dictionary_trimmed = gensim.corpora.Dictionary(token_plots)\n",
    "\n",
    "#We remove words which come up too often or not often enough\n",
    "dictionary_trimmed.filter_extremes(no_below=25, no_above=0.5, keep_n=100000)"
   ]
  },
  {
   "cell_type": "markdown",
   "id": "c9195efa",
   "metadata": {},
   "source": [
    "We sort this dictionary by its counts, and translate this into a list of ranked words. We can see here the top ten most popular words across all plots, with the top three being 'life, find, new'."
   ]
  },
  {
   "cell_type": "code",
   "execution_count": 17,
   "id": "e4871ee7",
   "metadata": {},
   "outputs": [
    {
     "data": {
      "text/plain": [
       "['life', 'find', 'new', 'take', 'get', 'young', 'family', 'world', 'go', 'man']"
      ]
     },
     "execution_count": 17,
     "metadata": {},
     "output_type": "execute_result"
    }
   ],
   "source": [
    "#FINDING TOP WORDS\n",
    "\n",
    "#Creating dictionary of wordcounts\n",
    "new_dict=dictionary.cfs\n",
    "new_dict_trimmed=dictionary_trimmed.cfs\n",
    "#Sorting by wordcount\n",
    "new_dict2 = sorted(new_dict.items(), key=lambda x:x[1],reverse=True)\n",
    "new_dict2_trimmed = sorted(new_dict_trimmed.items(), key=lambda x:x[1],reverse=True)\n",
    "#Translating word index to word\n",
    "ranked_words=[]\n",
    "for i in range(len(new_dict2)):\n",
    "    ranked_words.append(dictionary[new_dict2[i][0]])\n",
    "ranked_words_trimmed=[]\n",
    "for i in range(len(new_dict2_trimmed)):\n",
    "    ranked_words_trimmed.append(dictionary_trimmed[new_dict2_trimmed[i][0]])\n",
    "#Top 10 words\n",
    "ranked_words[:10]"
   ]
  },
  {
   "cell_type": "markdown",
   "id": "5ab771b1",
   "metadata": {},
   "source": [
    "One issue to address first is wordnet has multiple definitions for each word, so we need to make sure we are using the most common one. nltk already has the built in function pos_tag, although this is not always reliable. Often this decides a word is a noun by default if it is possible for it to be one, even if it is rarely used as such. For instance, most people would agree the most normal usage of 'jump' is as a verb, but since it can be used as a noun, pos_tag says it is one. This leads us to try and define our own."
   ]
  },
  {
   "cell_type": "code",
   "execution_count": 18,
   "id": "bf48814f",
   "metadata": {},
   "outputs": [
    {
     "data": {
      "text/plain": [
       "[('jump', 'NN')]"
      ]
     },
     "execution_count": 18,
     "metadata": {},
     "output_type": "execute_result"
    }
   ],
   "source": [
    "nltk.pos_tag(['jump'])"
   ]
  },
  {
   "cell_type": "markdown",
   "id": "fce047c5",
   "metadata": {},
   "source": [
    "There is no guaranteed way to say what type of word a word is in our list of tokens without referring to its context within the original text. Instead we use the word's most common defintion. One way of estimating this is to count up every possible definition of a word, then pick the word type which is referred to the most. For instance, for the word 'jump', there are many slightly different definitions of the word. However by looking at all possibilities, we can see that it by far mosty used as a verb, so we would assign it as such."
   ]
  },
  {
   "cell_type": "code",
   "execution_count": 19,
   "id": "71a8f843",
   "metadata": {},
   "outputs": [
    {
     "data": {
      "text/plain": [
       "[Synset('jump.n.01'),\n",
       " Synset('leap.n.02'),\n",
       " Synset('jump.n.03'),\n",
       " Synset('startle.n.01'),\n",
       " Synset('jump.n.05'),\n",
       " Synset('jump.n.06'),\n",
       " Synset('jump.v.01'),\n",
       " Synset('startle.v.02'),\n",
       " Synset('jump.v.03'),\n",
       " Synset('jump.v.04'),\n",
       " Synset('leap_out.v.01'),\n",
       " Synset('jump.v.06'),\n",
       " Synset('rise.v.11'),\n",
       " Synset('jump.v.08'),\n",
       " Synset('derail.v.02'),\n",
       " Synset('chute.v.01'),\n",
       " Synset('jump.v.11'),\n",
       " Synset('jumpstart.v.01'),\n",
       " Synset('jump.v.13'),\n",
       " Synset('leap.v.02'),\n",
       " Synset('alternate.v.01')]"
      ]
     },
     "execution_count": 19,
     "metadata": {},
     "output_type": "execute_result"
    }
   ],
   "source": [
    "wordnet.synsets('jump')"
   ]
  },
  {
   "cell_type": "code",
   "execution_count": 20,
   "id": "d03196d5",
   "metadata": {},
   "outputs": [],
   "source": [
    "#DEFINING OUR OWN POS_TAG\n",
    "def poz_tag(word):\n",
    "    #Count up the amounts of each type of word definition\n",
    "    #Wordnet uses 'n' for nouns, 'a' for adjectives, 'r' for adverbs, and 'v' and 's' for verbs\n",
    "    verbcount=len(wordnet.synsets(word,'v'))\n",
    "    verbcount2=len(wordnet.synsets(word,'s'))\n",
    "    nouncount=len(wordnet.synsets(word,'n'))\n",
    "    adjcount=len(wordnet.synsets(word,'a'))\n",
    "    adverbcount=len(wordnet.synsets(word,'r'))\n",
    "    #Find maximum count\n",
    "    wordtype=max(verbcount,nouncount,adjcount,verbcount2,adverbcount)\n",
    "    #Return the most basic definition of the most popular type of word\n",
    "    #(If the maximum is shared by multiple, we return the type of word in this order, arbitrarily)\n",
    "    if wordtype==nouncount:\n",
    "        return('n')\n",
    "    elif wordtype==verbcount:\n",
    "        return('v')\n",
    "    elif wordtype==adjcount:\n",
    "        return('a')\n",
    "    elif wordtype==verbcount2:\n",
    "        return('s')\n",
    "    elif wordtype==adverbcount:\n",
    "        return('r')"
   ]
  },
  {
   "cell_type": "markdown",
   "id": "bed30b5a",
   "metadata": {},
   "source": [
    "Now we have dealt with this problem, we are ready to define our word to synonym transformer. We begin by creating a list of synonyms for the word which we can do using in-built functions in wordnet. We make sure however we restrict the search to only synonyms of the type of word poz_tag gives us. Once we have a selection of synonyms to choose from, we select the 'best' one. As a metric for this, we first look at the synonyms that are in our ranked words, i.e. the ones that would be saved from potential trimming of the data. Out of these we choose the most 'significant', using the index of the ranked words as a metric. (Note that it is possible that multiple words might be mapped to the same synonym, so we remove duplicates)"
   ]
  },
  {
   "cell_type": "code",
   "execution_count": 23,
   "id": "98f8cfab",
   "metadata": {},
   "outputs": [],
   "source": [
    "from colorama import Fore\n",
    "\n",
    "#Defining function to create a list of synonyms for a word\n",
    "def synonyms(word):\n",
    "    list_of_synonyms= []\n",
    "    \n",
    "    #For each synset of the word, but only those under our poz_tag\n",
    "    for syn in wordnet.synsets(word,poz_tag(word)):\n",
    "        for l in syn.lemmas():\n",
    "            list_of_synonyms.append(l.name())\n",
    "    list_of_synonyms=list(dict.fromkeys(list_of_synonyms))\n",
    "\n",
    "\n",
    "    return(list_of_synonyms)\n",
    "\n",
    "#Defining function to map a word to its best synonym\n",
    "def wordtosynonym(word):\n",
    "    #Creating the word's list of synonyms\n",
    "    word_synonyms=synonyms(word)\n",
    "    master_word=word\n",
    "    for i in word_synonyms:\n",
    "        #Calculate the ranking of the word based off its count in the dictionary\n",
    "        sig1 = ranked_words.index(word)\n",
    "        #Only turn the word into a synonym if the synonym is in the trimmed dictionary\n",
    "        if i in ranked_words_trimmed:      \n",
    "            sig2 = ranked_words.index(i)\n",
    "            #We set this synonym as the 'best synonym' if its ranking is lower than the others\n",
    "            if sig2<sig1:\n",
    "                master_word=i\n",
    "    return(master_word)\n",
    "\n",
    "#Function applying wordtosynonym to every word in a list of tokens\n",
    "def tokenstosynonyms(tokens,example):\n",
    "    new_tokens=[]\n",
    "    for word in tokens:\n",
    "        new_word=wordtosynonym(word)\n",
    "        if example:\n",
    "            if new_word==word:\n",
    "                print(Fore.BLUE+word,Fore.BLUE+new_word)\n",
    "            else:\n",
    "                print(Fore.BLUE+word,Fore.RED+new_word)\n",
    "        new_tokens.append(new_word)\n",
    "    new_tokens=list(dict.fromkeys(new_tokens))\n",
    "    return(new_tokens)"
   ]
  },
  {
   "cell_type": "markdown",
   "id": "65513bfa",
   "metadata": {},
   "source": [
    "We can see how this works using the plot of the film 'Up at the Villa' as an example. Here for ever word, we have the original word on the left and its 'optimal synonym' on the right. If different, they are displayed in red."
   ]
  },
  {
   "cell_type": "code",
   "execution_count": 24,
   "id": "8f78fb94",
   "metadata": {},
   "outputs": [
    {
     "name": "stdout",
     "output_type": "stream",
     "text": [
      "\u001b[34msuperficial \u001b[34msuperficial\n",
      "\u001b[34mreveal \u001b[31mbreak\n",
      "\u001b[34mchange \u001b[34mchange\n",
      "\u001b[34mcircumstance \u001b[31mcondition\n",
      "\u001b[34mluck \u001b[31mchance\n",
      "\u001b[34mtale \u001b[31mstory\n",
      "\u001b[34mdeath \u001b[31mend\n",
      "\u001b[34mseduction \u001b[34mseduction\n",
      "\u001b[34mblackmail \u001b[31mpressure\n",
      "\u001b[34mtheft \u001b[31mstealing\n",
      "\u001b[34mamongst \u001b[34mamongst\n",
      "\u001b[34mbritish \u001b[34mbritish\n",
      "\u001b[34mflorence \u001b[34mflorence\n",
      "\u001b[34mitaly \u001b[34mitaly\n",
      "\u001b[34mturbulent \u001b[34mturbulent\n",
      "\u001b[34mworld \u001b[34mworld\n",
      "\u001b[34mwar \u001b[34mwar\n",
      "\u001b[34mii \u001b[34mii\n"
     ]
    },
    {
     "data": {
      "text/plain": [
       "['superficial',\n",
       " 'break',\n",
       " 'change',\n",
       " 'condition',\n",
       " 'chance',\n",
       " 'story',\n",
       " 'end',\n",
       " 'seduction',\n",
       " 'pressure',\n",
       " 'stealing',\n",
       " 'amongst',\n",
       " 'british',\n",
       " 'florence',\n",
       " 'italy',\n",
       " 'turbulent',\n",
       " 'world',\n",
       " 'war',\n",
       " 'ii']"
      ]
     },
     "execution_count": 24,
     "metadata": {},
     "output_type": "execute_result"
    }
   ],
   "source": [
    "tokenstosynonyms(token_plots[50],True)"
   ]
  },
  {
   "cell_type": "markdown",
   "id": "d35fae86",
   "metadata": {},
   "source": [
    "To see the effect of this, let us consider what happens when we remove the words removed in our trimmed dictionary to the tokenized plots. This is something we expect to happen in the topic model sections later. "
   ]
  },
  {
   "cell_type": "code",
   "execution_count": 75,
   "id": "2ad1cb25",
   "metadata": {},
   "outputs": [],
   "source": [
    "synonymed_plots=[]\n",
    "for i in range(len(token_plots)):\n",
    "    synonymed_plots.append(tokenstosynonyms(token_plots[i],False))"
   ]
  },
  {
   "cell_type": "code",
   "execution_count": 26,
   "id": "a54cea94",
   "metadata": {},
   "outputs": [],
   "source": [
    "#Defining a function that removes the words we defined as 'extreme'\n",
    "def wordtrimmer(tokens,rank):\n",
    "    new_tokens=[]\n",
    "    for word in tokens:\n",
    "        if word in rank:\n",
    "            new_tokens.append(word)\n",
    "    return(new_tokens)"
   ]
  },
  {
   "cell_type": "markdown",
   "id": "d366452c",
   "metadata": {},
   "source": [
    "Here we can the average number of words after trimming is slightly higher for the synonymed plots, meaning we have been able to keep extra words whilst still retaining effectively the same meaning."
   ]
  },
  {
   "cell_type": "code",
   "execution_count": 27,
   "id": "db4e4c30",
   "metadata": {},
   "outputs": [
    {
     "name": "stdout",
     "output_type": "stream",
     "text": [
      "28.43\n",
      "26.547\n"
     ]
    }
   ],
   "source": [
    "print(sum([len(wordtrimmer(token,ranked_words_trimmed)) for token in synonymed_plots])/1000)\n",
    "print(sum([len(wordtrimmer(token_plots[num],ranked_words_trimmed)) for num in range(1000)])/1000)"
   ]
  },
  {
   "cell_type": "markdown",
   "id": "faa621e2",
   "metadata": {},
   "source": [
    "As a specific example, let's consider the plot of 'Wild Child'. Here we have the tokenized plots and the tokenized plots after having their extreme tokens removed, with the original in red and the synonymed version in blue. Firstly, the synonymed version has 2 less words than the original, most likely from removing 2 synonyms of each other within the plot. However, after trimming, the synonymed version actually has seven more words. It is difficult to see with the words written in a slightly different order, but the synonymed version has changed:\n",
    "\n",
    "'regime' to 'government'\n",
    "\n",
    "'dismiss' to 'fire'\n",
    "\n",
    "'appeal' to 'attract'\n",
    "\n",
    "all of which were originally removed but have now been saved from removal in the synonymed version."
   ]
  },
  {
   "cell_type": "code",
   "execution_count": 28,
   "id": "c6a3f01a",
   "metadata": {},
   "outputs": [
    {
     "name": "stdout",
     "output_type": "stream",
     "text": [
      "\u001b[31m['malibu', 'brat', 'poppy', 'mom', 'pass', 'push', 'rich', 'absent', 'dad', 'gerry', 'patience', 'ship', 'former', 'english', 'boarding', 'school', 'abbey', 'mount', 'first', 'day', 'make', 'dorm', 'dominant', 'lacrosse', 'captain', 'harriet', 'principal', 'mrs', 'kingsley', 'unwilling', 'accept', 'strict', 'regime', 'misbehave', 'take', 'blame', 'everyone', 'dismiss', 'appeal', 'feature', 'dash', 'son', 'freddie', 'dream', 'prince', 'favor', 'ambitious', 'uptight', 'unruly', 'everything']\n",
      "50\n",
      "\u001b[34m['malibu', 'terror', 'poppy', 'mom', 'die', 'fight', 'deep', 'absent', 'dad', 'gerry', 'patience', 'embark', 'old', 'side', 'room', 'school', 'abbey', 'ride', 'start', 'day', 'take', 'hall', 'dominant', 'lacrosse', 'captain', 'harriet', 'dealer', 'mrs', 'kingsley', 'unwilling', 'strict', 'government', 'misbehave', 'charge', 'everyone', 'fire', 'attract', 'feature', 'style', 'son', 'freddie', 'dream', 'prince', 'favor', 'ambitious', 'uptight', 'unruly', 'everything']\n",
      "48\n",
      "\u001b[31m['mom', 'pass', 'push', 'rich', 'dad', 'ship', 'former', 'english', 'school', 'mount', 'first', 'day', 'make', 'captain', 'mrs', 'accept', 'strict', 'take', 'everyone', 'feature', 'son', 'dream', 'prince', 'favor', 'ambitious', 'everything']\n",
      "26\n",
      "\u001b[34m['terror', 'mom', 'die', 'fight', 'deep', 'dad', 'embark', 'old', 'side', 'room', 'school', 'ride', 'start', 'day', 'take', 'hall', 'captain', 'dealer', 'mrs', 'strict', 'government', 'charge', 'everyone', 'fire', 'attract', 'feature', 'style', 'son', 'dream', 'prince', 'favor', 'ambitious', 'everything']\n",
      "33\n"
     ]
    }
   ],
   "source": [
    "M=401\n",
    "#Original tokenized list\n",
    "print(Fore.RED+str(token_plots[M]))\n",
    "#Number of words in original list\n",
    "print(len(token_plots[M]))\n",
    "#Synonymed list\n",
    "print(Fore.BLUE+str(synonymed_plots[M]))\n",
    "#Number of words in synonymed list\n",
    "print(len(synonymed_plots[M]))\n",
    "#Original list after extreme words removed\n",
    "print(Fore.RED+str(wordtrimmer(token_plots[M],ranked_words_trimmed)))\n",
    "#Number of words remaining after trimming\n",
    "print(len(wordtrimmer(token_plots[M],ranked_words_trimmed)))\n",
    "#Synonymed list after extreme words removed\n",
    "print(Fore.BLUE+str(wordtrimmer(synonymed_plots[M],ranked_words_trimmed)))\n",
    "#Number of words remaining after trimming\n",
    "print(len(wordtrimmer(synonymed_plots[M],ranked_words_trimmed)))"
   ]
  },
  {
   "cell_type": "markdown",
   "id": "79ad1686",
   "metadata": {},
   "source": [
    "Now we are confident enough that this works as intended, we can convert into a csv to be used in the topic models in the next section."
   ]
  },
  {
   "cell_type": "code",
   "execution_count": 76,
   "id": "a1eda38c",
   "metadata": {},
   "outputs": [],
   "source": [
    "synonym_stringed_plots=[str(synonymed_plots[num]) for num in range(len(synonymed_plots))]\n",
    "df=pd.DataFrame(synonym_stringed_plots)\n",
    "df.to_csv('synonym_stringed_plots.csv')"
   ]
  },
  {
   "cell_type": "code",
   "execution_count": 77,
   "id": "03b91620",
   "metadata": {},
   "outputs": [],
   "source": [
    "#CODE FOR CONVERTING DATAFRAME OF STRINGS INTO LIST OF LISTS OF TOKENS\n",
    "#synonym_stringed_data=pd.read_csv('synonym_stringed_plots.csv')\n",
    "#synonym_tokenized_plots=[]\n",
    "#for i in range(0,len(synonym_stringed_data)):\n",
    "#    data=np.array(synonym_stringed_data.iloc[i])\n",
    "#    text=data[1]\n",
    "#    text=text.replace(',','')\n",
    "#    text=text.replace('[','')\n",
    "#    text=text.replace(']','')\n",
    "#    text=text.replace(\"'\",'')\n",
    "#    tokens=word_tokenize(text)\n",
    "#    synonym_tokenized_plots.append(tokens)"
   ]
  }
 ],
 "metadata": {
  "kernelspec": {
   "display_name": "Python 3 (ipykernel)",
   "language": "python",
   "name": "python3"
  },
  "language_info": {
   "codemirror_mode": {
    "name": "ipython",
    "version": 3
   },
   "file_extension": ".py",
   "mimetype": "text/x-python",
   "name": "python",
   "nbconvert_exporter": "python",
   "pygments_lexer": "ipython3",
   "version": "3.9.12"
  }
 },
 "nbformat": 4,
 "nbformat_minor": 5
}
