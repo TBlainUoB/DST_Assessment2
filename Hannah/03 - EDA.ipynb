{
 "cells": [
  {
   "cell_type": "markdown",
   "id": "9cdb0d5b",
   "metadata": {},
   "source": [
    "# EDA\n",
    "\n",
    "In this file, we ivestigate the dataset to get a better picture of the data we are working with.\n",
    "\n",
    "### Setup"
   ]
  },
  {
   "cell_type": "code",
   "execution_count": 21,
   "id": "eb6ec1e5",
   "metadata": {},
   "outputs": [],
   "source": [
    "import pandas as pd\n",
    "import numpy as np\n",
    "import matplotlib.pyplot as plt"
   ]
  },
  {
   "cell_type": "markdown",
   "id": "70dcc329",
   "metadata": {},
   "source": [
    "### Importing and viewing the data"
   ]
  },
  {
   "cell_type": "code",
   "execution_count": 8,
   "id": "b0a3f6b2",
   "metadata": {},
   "outputs": [],
   "source": [
    "df = pd.read_csv('../Hannah/PreProcessedData.csv')"
   ]
  },
  {
   "cell_type": "code",
   "execution_count": 11,
   "id": "9efc69fc",
   "metadata": {},
   "outputs": [
    {
     "data": {
      "text/html": [
       "<div>\n",
       "<style scoped>\n",
       "    .dataframe tbody tr th:only-of-type {\n",
       "        vertical-align: middle;\n",
       "    }\n",
       "\n",
       "    .dataframe tbody tr th {\n",
       "        vertical-align: top;\n",
       "    }\n",
       "\n",
       "    .dataframe thead th {\n",
       "        text-align: right;\n",
       "    }\n",
       "</style>\n",
       "<table border=\"1\" class=\"dataframe\">\n",
       "  <thead>\n",
       "    <tr style=\"text-align: right;\">\n",
       "      <th></th>\n",
       "      <th>IMDbRating</th>\n",
       "      <th>Title</th>\n",
       "      <th>Year</th>\n",
       "      <th>Plot</th>\n",
       "      <th>Actors</th>\n",
       "      <th>Action</th>\n",
       "      <th>Adult</th>\n",
       "      <th>Adventure</th>\n",
       "      <th>Animation</th>\n",
       "      <th>Biography</th>\n",
       "      <th>...</th>\n",
       "      <th>Mystery</th>\n",
       "      <th>News</th>\n",
       "      <th>Reality-TV</th>\n",
       "      <th>Romance</th>\n",
       "      <th>Sci-Fi</th>\n",
       "      <th>Short</th>\n",
       "      <th>Sport</th>\n",
       "      <th>Thriller</th>\n",
       "      <th>War</th>\n",
       "      <th>Western</th>\n",
       "    </tr>\n",
       "  </thead>\n",
       "  <tbody>\n",
       "    <tr>\n",
       "      <th>0</th>\n",
       "      <td>7.1</td>\n",
       "      <td>Aberdeen</td>\n",
       "      <td>2000</td>\n",
       "      <td>Kaisa is a Scot, a successful London lawyer, w...</td>\n",
       "      <td>Stellan Skarsgård, Lena Headey, Jean Johansson</td>\n",
       "      <td>0</td>\n",
       "      <td>0</td>\n",
       "      <td>0</td>\n",
       "      <td>0</td>\n",
       "      <td>0</td>\n",
       "      <td>...</td>\n",
       "      <td>0</td>\n",
       "      <td>0</td>\n",
       "      <td>0</td>\n",
       "      <td>0</td>\n",
       "      <td>0</td>\n",
       "      <td>0</td>\n",
       "      <td>0</td>\n",
       "      <td>0</td>\n",
       "      <td>0</td>\n",
       "      <td>0</td>\n",
       "    </tr>\n",
       "    <tr>\n",
       "      <th>1</th>\n",
       "      <td>4.1</td>\n",
       "      <td>The Asylum</td>\n",
       "      <td>2000</td>\n",
       "      <td>Plagued by endless visions and nightmares, Jen...</td>\n",
       "      <td>Steffanie Pitt, Nick Waring, Ingrid Pitt</td>\n",
       "      <td>0</td>\n",
       "      <td>0</td>\n",
       "      <td>0</td>\n",
       "      <td>0</td>\n",
       "      <td>0</td>\n",
       "      <td>...</td>\n",
       "      <td>0</td>\n",
       "      <td>0</td>\n",
       "      <td>0</td>\n",
       "      <td>0</td>\n",
       "      <td>0</td>\n",
       "      <td>0</td>\n",
       "      <td>0</td>\n",
       "      <td>1</td>\n",
       "      <td>0</td>\n",
       "      <td>0</td>\n",
       "    </tr>\n",
       "    <tr>\n",
       "      <th>2</th>\n",
       "      <td>6.6</td>\n",
       "      <td>The Beach</td>\n",
       "      <td>2000</td>\n",
       "      <td>Garland's novel centers on a young nicotine-ad...</td>\n",
       "      <td>Leonardo DiCaprio, Tilda Swinton, Daniel York</td>\n",
       "      <td>0</td>\n",
       "      <td>0</td>\n",
       "      <td>1</td>\n",
       "      <td>0</td>\n",
       "      <td>0</td>\n",
       "      <td>...</td>\n",
       "      <td>0</td>\n",
       "      <td>0</td>\n",
       "      <td>0</td>\n",
       "      <td>1</td>\n",
       "      <td>0</td>\n",
       "      <td>0</td>\n",
       "      <td>0</td>\n",
       "      <td>0</td>\n",
       "      <td>0</td>\n",
       "      <td>0</td>\n",
       "    </tr>\n",
       "    <tr>\n",
       "      <th>3</th>\n",
       "      <td>5.6</td>\n",
       "      <td>Beautiful Joe</td>\n",
       "      <td>2000</td>\n",
       "      <td>In the Bronx, Joe (Sir Billy Connolly), an Iri...</td>\n",
       "      <td>Sharon Stone, Billy Connolly, Gil Bellows</td>\n",
       "      <td>0</td>\n",
       "      <td>0</td>\n",
       "      <td>0</td>\n",
       "      <td>0</td>\n",
       "      <td>0</td>\n",
       "      <td>...</td>\n",
       "      <td>0</td>\n",
       "      <td>0</td>\n",
       "      <td>0</td>\n",
       "      <td>0</td>\n",
       "      <td>0</td>\n",
       "      <td>0</td>\n",
       "      <td>0</td>\n",
       "      <td>0</td>\n",
       "      <td>0</td>\n",
       "      <td>0</td>\n",
       "    </tr>\n",
       "    <tr>\n",
       "      <th>4</th>\n",
       "      <td>6.3</td>\n",
       "      <td>My Best Friend's Wedding</td>\n",
       "      <td>1997</td>\n",
       "      <td>A woman who, by a promise made years earlier, ...</td>\n",
       "      <td>Julia Roberts, Dermot Mulroney, Cameron Diaz</td>\n",
       "      <td>0</td>\n",
       "      <td>0</td>\n",
       "      <td>0</td>\n",
       "      <td>0</td>\n",
       "      <td>0</td>\n",
       "      <td>...</td>\n",
       "      <td>0</td>\n",
       "      <td>0</td>\n",
       "      <td>0</td>\n",
       "      <td>1</td>\n",
       "      <td>0</td>\n",
       "      <td>0</td>\n",
       "      <td>0</td>\n",
       "      <td>0</td>\n",
       "      <td>0</td>\n",
       "      <td>0</td>\n",
       "    </tr>\n",
       "  </tbody>\n",
       "</table>\n",
       "<p>5 rows × 31 columns</p>\n",
       "</div>"
      ],
      "text/plain": [
       "   IMDbRating                     Title  Year  \\\n",
       "0         7.1                  Aberdeen  2000   \n",
       "1         4.1                The Asylum  2000   \n",
       "2         6.6                 The Beach  2000   \n",
       "3         5.6             Beautiful Joe  2000   \n",
       "4         6.3  My Best Friend's Wedding  1997   \n",
       "\n",
       "                                                Plot  \\\n",
       "0  Kaisa is a Scot, a successful London lawyer, w...   \n",
       "1  Plagued by endless visions and nightmares, Jen...   \n",
       "2  Garland's novel centers on a young nicotine-ad...   \n",
       "3  In the Bronx, Joe (Sir Billy Connolly), an Iri...   \n",
       "4  A woman who, by a promise made years earlier, ...   \n",
       "\n",
       "                                           Actors  Action  Adult  Adventure  \\\n",
       "0  Stellan Skarsgård, Lena Headey, Jean Johansson       0      0          0   \n",
       "1        Steffanie Pitt, Nick Waring, Ingrid Pitt       0      0          0   \n",
       "2   Leonardo DiCaprio, Tilda Swinton, Daniel York       0      0          1   \n",
       "3       Sharon Stone, Billy Connolly, Gil Bellows       0      0          0   \n",
       "4    Julia Roberts, Dermot Mulroney, Cameron Diaz       0      0          0   \n",
       "\n",
       "   Animation  Biography  ...  Mystery  News  Reality-TV  Romance  Sci-Fi  \\\n",
       "0          0          0  ...        0     0           0        0       0   \n",
       "1          0          0  ...        0     0           0        0       0   \n",
       "2          0          0  ...        0     0           0        1       0   \n",
       "3          0          0  ...        0     0           0        0       0   \n",
       "4          0          0  ...        0     0           0        1       0   \n",
       "\n",
       "   Short  Sport  Thriller  War  Western  \n",
       "0      0      0         0    0        0  \n",
       "1      0      0         1    0        0  \n",
       "2      0      0         0    0        0  \n",
       "3      0      0         0    0        0  \n",
       "4      0      0         0    0        0  \n",
       "\n",
       "[5 rows x 31 columns]"
      ]
     },
     "execution_count": 11,
     "metadata": {},
     "output_type": "execute_result"
    }
   ],
   "source": [
    "df[0:5]"
   ]
  },
  {
   "cell_type": "code",
   "execution_count": 20,
   "id": "da4a32b3",
   "metadata": {},
   "outputs": [
    {
     "name": "stdout",
     "output_type": "stream",
     "text": [
      "Number of Rows:  6732\n",
      "Number of Columns:  31\n"
     ]
    }
   ],
   "source": [
    "rows = len(df.axes[0])\n",
    "cols = len(df.axes[1])\n",
    "\n",
    "print(\"Number of Rows: \", rows)\n",
    "print(\"Number of Columns: \", cols)"
   ]
  },
  {
   "cell_type": "markdown",
   "id": "a55bd0af",
   "metadata": {},
   "source": [
    "### IMDb rating\n",
    "\n",
    "Let's first look at the distribution of IMDb ratings.\n",
    "\n"
   ]
  },
  {
   "cell_type": "code",
   "execution_count": 25,
   "id": "d05ea2ae",
   "metadata": {},
   "outputs": [
    {
     "name": "stdout",
     "output_type": "stream",
     "text": [
      "[7.1, 4.1, 6.6, 5.6, 6.3]\n"
     ]
    }
   ],
   "source": [
    "ratings = list(df.loc[:,\"IMDbRating\"])\n",
    "print(ratings[:5])"
   ]
  },
  {
   "cell_type": "code",
   "execution_count": 30,
   "id": "deb6d9b0",
   "metadata": {},
   "outputs": [
    {
     "data": {
      "image/png": "[encoded data removed]",
      "text/plain": [
       "<Figure size 432x288 with 1 Axes>"
      ]
     },
     "metadata": {
      "needs_background": "light"
     },
     "output_type": "display_data"
    },
    {
     "data": {
      "text/plain": [
       "6.218820558526408"
      ]
     },
     "execution_count": 30,
     "metadata": {},
     "output_type": "execute_result"
    }
   ],
   "source": [
    "plt.hist(ratings, bins=20)\n",
    "plt.show()\n",
    "sum(ratings)/len(ratings)"
   ]
  },
  {
   "cell_type": "markdown",
   "id": "32613fc0",
   "metadata": {},
   "source": [
    "The above histogram shows that the ratings approximately follow a bell curve slightly skewed towards higher scores. The average rating is just over 6, and most ratings are between 4 and 8, so we expect our model to predict mostly in this range. The fact that there is a good spread of ratings, rather than a few numbers dominating the dataset, is good news for our prediction problem as it means that we can't obtain a high accuracy on the training data by predicting the same value for each observation."
   ]
  },
  {
   "cell_type": "markdown",
   "id": "d87981a7",
   "metadata": {},
   "source": [
    "### Year\n",
    "\n",
    "Next let's look at the years the films were released. "
   ]
  },
  {
   "cell_type": "code",
   "execution_count": 42,
   "id": "39cb8327",
   "metadata": {},
   "outputs": [
    {
     "data": {
      "image/png": "[encoded data removed]",
      "text/plain": [
       "<Figure size 1008x576 with 1 Axes>"
      ]
     },
     "metadata": {
      "needs_background": "light"
     },
     "output_type": "display_data"
    }
   ],
   "source": [
    "#grabbing the year column\n",
    "v1 = df[['Year']] \n",
    "#filtering values appearing more than 10 times\n",
    "v2 = df[v1.replace(v1.stack().value_counts()).gt(10).all(1)]\n",
    "#plot counts\n",
    "ax = v2['Year'].value_counts().sort_index().plot(kind='bar',\n",
    "                                    figsize=(14,8),\n",
    "                                    title=\"Counts for each year\")"
   ]
  },
  {
   "cell_type": "markdown",
   "id": "b36e8d7a",
   "metadata": {},
   "source": [
    "The most common year for films in our dataset is 2008, however we have a good amount of films from each year from 200 onwards.\n",
    "\n",
    "Do IMDb ratings vary by year?"
   ]
  },
  {
   "cell_type": "code",
   "execution_count": 52,
   "id": "801cbc15",
   "metadata": {},
   "outputs": [
    {
     "data": {
      "image/png": "[encoded data removed]",
      "text/plain": [
       "<Figure size 432x288 with 1 Axes>"
      ]
     },
     "metadata": {
      "needs_background": "light"
     },
     "output_type": "display_data"
    }
   ],
   "source": [
    "plt.scatter(v2['Year'], v2['IMDbRating'], s= 2)\n",
    "plt.show()"
   ]
  },
  {
   "cell_type": "markdown",
   "id": "1e7b7a92",
   "metadata": {},
   "source": [
    "The year doesn't appear to make much difference to the imdb rating.\n",
    "\n",
    "### Genres"
   ]
  },
  {
   "cell_type": "code",
   "execution_count": 62,
   "id": "4c5a53be",
   "metadata": {},
   "outputs": [
    {
     "data": {
      "text/plain": [
       "Action         1380\n",
       "Adult             1\n",
       "Adventure      1076\n",
       "Animation       366\n",
       "Biography       556\n",
       "Comedy         2475\n",
       "Crime          1069\n",
       "Documentary     334\n",
       "Drama          3583\n",
       "Family          369\n",
       "Fantasy         433\n",
       "Film-Noir         6\n",
       "History         232\n",
       "Horror          780\n",
       "Music           271\n",
       "Musical          72\n",
       "Mystery         619\n",
       "News              3\n",
       "Reality-TV        1\n",
       "Romance        1072\n",
       "Sci-Fi          420\n",
       "Short            35\n",
       "Sport           188\n",
       "Thriller       1078\n",
       "War             110\n",
       "Western          31\n",
       "dtype: int64"
      ]
     },
     "execution_count": 62,
     "metadata": {},
     "output_type": "execute_result"
    }
   ],
   "source": [
    "# remove irrelevant columns\n",
    "df2 = df.drop(columns=[\"IMDbRating\", \"Title\", \"Year\", \"Plot\", \"Actors\"]) \n",
    "# get column sums\n",
    "counts = df2.sum(0)\n",
    "counts"
   ]
  },
  {
   "cell_type": "code",
   "execution_count": 68,
   "id": "1165ef98",
   "metadata": {},
   "outputs": [
    {
     "data": {
      "text/plain": [
       "<BarContainer object of 26 artists>"
      ]
     },
     "execution_count": 68,
     "metadata": {},
     "output_type": "execute_result"
    },
    {
     "data": {
      "image/png": "[encoded data removed]",
      "text/plain": [
       "<Figure size 432x288 with 1 Axes>"
      ]
     },
     "metadata": {
      "needs_background": "light"
     },
     "output_type": "display_data"
    }
   ],
   "source": [
    "plt.xticks(rotation='vertical')\n",
    "plt.bar(counts.index, counts.values)"
   ]
  },
  {
   "cell_type": "code",
   "execution_count": null,
   "id": "3aff5f1c",
   "metadata": {},
   "outputs": [],
   "source": [
    "We can see that the most common film genre is the rather vague 'drama'"
   ]
  }
 ],
 "metadata": {
  "kernelspec": {
   "display_name": "Python 3 (ipykernel)",
   "language": "python",
   "name": "python3"
  },
  "language_info": {
   "codemirror_mode": {
    "name": "ipython",
    "version": 3
   },
   "file_extension": ".py",
   "mimetype": "text/x-python",
   "name": "python",
   "nbconvert_exporter": "python",
   "pygments_lexer": "ipython3",
   "version": "3.9.12"
  }
 },
 "nbformat": 4,
 "nbformat_minor": 5
}
