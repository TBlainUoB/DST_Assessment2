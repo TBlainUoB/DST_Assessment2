{
 "cells": [
  {
   "cell_type": "markdown",
   "id": "b09bac18",
   "metadata": {},
   "source": [
    "# Topic Modelling\n"
   ]
  },
  {
   "cell_type": "code",
   "execution_count": 1,
   "id": "abce364c",
   "metadata": {},
   "outputs": [],
   "source": [
    "import gensim\n",
    "import pandas as pd\n",
    "from nltk.tokenize import word_tokenize\n",
    "import string\n",
    "import nltk\n",
    "import numpy as np\n",
    "import re\n",
    "from pprint import pprint# Gensim\n",
    "import gensim.corpora as corpora\n",
    "from gensim.utils import simple_preprocess\n",
    "from gensim.models import CoherenceModel# spaCy for preprocessing\n",
    "#import spacy# Plotting tools\n",
    "import pyLDAvis\n",
    "import pyLDAvis.gensim_models\n",
    "import matplotlib.pyplot as plt\n",
    "#matplotlib inline"
   ]
  },
  {
   "cell_type": "code",
   "execution_count": 2,
   "id": "97c7bdae",
   "metadata": {},
   "outputs": [
    {
     "name": "stderr",
     "output_type": "stream",
     "text": [
      "[nltk_data] Downloading package punkt to\n",
      "[nltk_data]     C:\\Users\\user\\AppData\\Roaming\\nltk_data...\n",
      "[nltk_data]   Package punkt is already up-to-date!\n"
     ]
    },
    {
     "data": {
      "text/plain": [
       "True"
      ]
     },
     "execution_count": 2,
     "metadata": {},
     "output_type": "execute_result"
    }
   ],
   "source": [
    "nltk.download('punkt')"
   ]
  },
  {
   "cell_type": "code",
   "execution_count": 3,
   "id": "549a5821",
   "metadata": {},
   "outputs": [],
   "source": [
    "def preprocess_text(text):\n",
    "    text = text.lower()\n",
    "    text = text.translate(str.maketrans('', '', string.punctuation + string.digits))\n",
    "    text = ' '.join(text.split())\n",
    "    return text"
   ]
  },
  {
   "cell_type": "code",
   "execution_count": 4,
   "id": "04c15ca2",
   "metadata": {},
   "outputs": [],
   "source": [
    "# Load the dataset \n",
    "df = pd.read_csv('../Tom/Movie_database_BritishAmerican2000-2021.csv')"
   ]
  },
  {
   "cell_type": "code",
   "execution_count": 5,
   "id": "90a87b5f",
   "metadata": {},
   "outputs": [
    {
     "data": {
      "text/plain": [
       "0       Kaisa is a Scot, a successful London lawyer, w...\n",
       "1       Plagued by endless visions and nightmares, Jen...\n",
       "2       Garland's novel centers on a young nicotine-ad...\n",
       "3       In the Bronx, Joe (Sir Billy Connolly), an Iri...\n",
       "4       A woman who, by a promise made years earlier, ...\n",
       "                              ...                        \n",
       "9264    Puss in Boots discovers that his passion for a...\n",
       "9265                                                  NaN\n",
       "9266    A tale of outsized ambition and outrageous exc...\n",
       "9267    A joyous, emotional, heartbreaking celebration...\n",
       "9268    At West Point Academy in 1830, the calm of an ...\n",
       "Name: Plot, Length: 9269, dtype: object"
      ]
     },
     "execution_count": 5,
     "metadata": {},
     "output_type": "execute_result"
    }
   ],
   "source": [
    "# Viewing dataset\n",
    "df\n",
    "df['Plot']"
   ]
  },
  {
   "cell_type": "code",
   "execution_count": 6,
   "id": "4ba1ad01",
   "metadata": {},
   "outputs": [
    {
     "name": "stdout",
     "output_type": "stream",
     "text": [
      "9269\n",
      "   IMDbRating                     Title  Year                      Genre  \\\n",
      "0         7.1                  Aberdeen  2000                      Drama   \n",
      "1         4.1                The Asylum  2000    Drama, Horror, Thriller   \n",
      "2         6.6                 The Beach  2000  Adventure, Drama, Romance   \n",
      "3         5.6             Beautiful Joe  2000              Comedy, Drama   \n",
      "4         6.3  My Best Friend's Wedding  1997     Comedy, Drama, Romance   \n",
      "\n",
      "                                                Plot  \\\n",
      "0  Kaisa is a Scot, a successful London lawyer, w...   \n",
      "1  Plagued by endless visions and nightmares, Jen...   \n",
      "2  Garland's novel centers on a young nicotine-ad...   \n",
      "3  In the Bronx, Joe (Sir Billy Connolly), an Iri...   \n",
      "4  A woman who, by a promise made years earlier, ...   \n",
      "\n",
      "                                           Actors  \n",
      "0  Stellan Skarsgård, Lena Headey, Jean Johansson  \n",
      "1        Steffanie Pitt, Nick Waring, Ingrid Pitt  \n",
      "2   Leonardo DiCaprio, Tilda Swinton, Daniel York  \n",
      "3       Sharon Stone, Billy Connolly, Gil Bellows  \n",
      "4    Julia Roberts, Dermot Mulroney, Cameron Diaz  \n"
     ]
    }
   ],
   "source": [
    "#EDA \n",
    "print(len(df)) \n",
    "print(df[:5])"
   ]
  },
  {
   "cell_type": "code",
   "execution_count": 7,
   "id": "2dbb7a99",
   "metadata": {},
   "outputs": [],
   "source": [
    "## Stop words \n",
    "en_stop = set(nltk.corpus.stopwords.words('english'))"
   ]
  },
  {
   "cell_type": "code",
   "execution_count": 8,
   "id": "c1a7e212",
   "metadata": {},
   "outputs": [
    {
     "name": "stdout",
     "output_type": "stream",
     "text": [
      "9119\n",
      "   IMDbRating                     Title  Year                      Genre  \\\n",
      "0         7.1                  Aberdeen  2000                      Drama   \n",
      "1         4.1                The Asylum  2000    Drama, Horror, Thriller   \n",
      "2         6.6                 The Beach  2000  Adventure, Drama, Romance   \n",
      "3         5.6             Beautiful Joe  2000              Comedy, Drama   \n",
      "4         6.3  My Best Friend's Wedding  1997     Comedy, Drama, Romance   \n",
      "\n",
      "                                                Plot  \\\n",
      "0  kaisa is a scot a successful london lawyer who...   \n",
      "1  plagued by endless visions and nightmares jenn...   \n",
      "2  garlands novel centers on a young nicotineaddi...   \n",
      "3  in the bronx joe sir billy connolly an irish g...   \n",
      "4  a woman who by a promise made years earlier is...   \n",
      "\n",
      "                                           Actors  \n",
      "0  Stellan Skarsgård, Lena Headey, Jean Johansson  \n",
      "1        Steffanie Pitt, Nick Waring, Ingrid Pitt  \n",
      "2   Leonardo DiCaprio, Tilda Swinton, Daniel York  \n",
      "3       Sharon Stone, Billy Connolly, Gil Bellows  \n",
      "4    Julia Roberts, Dermot Mulroney, Cameron Diaz  \n"
     ]
    },
    {
     "name": "stderr",
     "output_type": "stream",
     "text": [
      "C:\\Users\\user\\AppData\\Local\\Temp\\ipykernel_8292\\470496803.py:2: SettingWithCopyWarning: \n",
      "A value is trying to be set on a copy of a slice from a DataFrame.\n",
      "Try using .loc[row_indexer,col_indexer] = value instead\n",
      "\n",
      "See the caveats in the documentation: https://pandas.pydata.org/pandas-docs/stable/user_guide/indexing.html#returning-a-view-versus-a-copy\n",
      "  df_new['Plot'] = df_new['Plot'].apply(lambda x: preprocess_text(x))\n"
     ]
    }
   ],
   "source": [
    "df_new = df[df['Plot'].notnull()]\n",
    "df_new['Plot'] = df_new['Plot'].apply(lambda x: preprocess_text(x))\n",
    "print(len(df_new)) \n",
    "print(df_new[:5])"
   ]
  },
  {
   "cell_type": "code",
   "execution_count": 9,
   "id": "0231924b",
   "metadata": {},
   "outputs": [],
   "source": [
    "# From workshop - setting up lemmatisation and removing stop words \n",
    "\n",
    "import nltk\n",
    "from nltk.corpus import wordnet\n",
    "\n",
    "lmtzr = nltk.WordNetLemmatizer().lemmatize\n",
    "\n",
    "## We lookup whether a word is and adjective, verb, noun or adverb here.\n",
    "def get_wordnet_pos(treebank_tag):\n",
    "    if treebank_tag.startswith('J'):\n",
    "        return wordnet.ADJ\n",
    "    elif treebank_tag.startswith('V'):\n",
    "        return wordnet.VERB\n",
    "    elif treebank_tag.startswith('N'):\n",
    "        return wordnet.NOUN\n",
    "    elif treebank_tag.startswith('R'):\n",
    "        return wordnet.ADV\n",
    "    else:\n",
    "        return wordnet.NOUN\n",
    "\n",
    "    \n",
    "## This version uses word type. Needs the bigger nltp download (\"popular\")\n",
    "def normalize_text(text):\n",
    "    ## Runs on documents (vector of words)\n",
    "    word_pos = nltk.pos_tag(nltk.word_tokenize(text))\n",
    "    lemm_words = [lmtzr(sw[0], get_wordnet_pos(sw[1])) for sw in word_pos]\n",
    "\n",
    "    return [x.lower() for x in lemm_words]\n",
    "\n",
    "## This version doesn't require the \"popular\" download\n",
    "def preprocess(text):\n",
    "    ## Runs on documents (vector of words)\n",
    "    lemmatizer = nltk.WordNetLemmatizer()\n",
    "    return([lemmatizer.lemmatize(i) for i in text.split()])\n",
    "\n",
    "################\n",
    "## wordnet version\n",
    "from nltk.corpus import wordnet as wn\n",
    "def get_lemma(word):\n",
    "    ## morphy does a lemma lookup and word standardization\n",
    "    lemma = wn.morphy(word)\n",
    "    if lemma is None:\n",
    "        return word\n",
    "    else:\n",
    "        return lemma\n",
    "\n",
    "## lemmatize\n",
    "from nltk.stem.wordnet import WordNetLemmatizer\n",
    "def get_lemma2(word):\n",
    "    return WordNetLemmatizer().lemmatize(word)\n",
    "\n",
    "## This version is for comparison\n",
    "def prepare_text_for_lda(text):\n",
    "    ## Runs on documents (vector of words)\n",
    "    tokens = nltk.word_tokenize(text)\n",
    "    tokens = [token for token in tokens if len(token) > 4]\n",
    "    tokens = [token for token in tokens if token not in en_stop]\n",
    "    tokens = [get_lemma(token) for token in tokens]\n",
    "    return tokens\n"
   ]
  },
  {
   "cell_type": "code",
   "execution_count": 10,
   "id": "23a81586",
   "metadata": {},
   "outputs": [
    {
     "name": "stdout",
     "output_type": "stream",
     "text": [
      "plagued by endless visions and nightmares jenny adams suspects that as a child she was responsible for the brutal murder of her own mother\n"
     ]
    }
   ],
   "source": [
    "print(df_new.iloc[1]['Plot'])"
   ]
  },
  {
   "cell_type": "code",
   "execution_count": 11,
   "id": "f98f542e",
   "metadata": {},
   "outputs": [
    {
     "name": "stdout",
     "output_type": "stream",
     "text": [
      "original document: \n",
      "['plagued', 'by', 'endless', 'visions', 'and', 'nightmares', 'jenny', 'adams', 'suspects', 'that', 'as', 'a', 'child', 'she', 'was', 'responsible', 'for', 'the', 'brutal', 'murder', 'of', 'her', 'own', 'mother']\n",
      "\n",
      "\n",
      " tokenized and lemmatized document: \n",
      "['plague', 'by', 'endless', 'vision', 'and', 'nightmare', 'jenny', 'adam', 'suspect', 'that', 'a', 'a', 'child', 'she', 'be', 'responsible', 'for', 'the', 'brutal', 'murder', 'of', 'her', 'own', 'mother']\n",
      "\n",
      "\n",
      " simpler tokenized and lemmatized document: \n",
      "['plagued', 'by', 'endless', 'vision', 'and', 'nightmare', 'jenny', 'adam', 'suspect', 'that', 'a', 'a', 'child', 'she', 'wa', 'responsible', 'for', 'the', 'brutal', 'murder', 'of', 'her', 'own', 'mother']\n",
      "\n",
      "\n",
      " method removing stop words: \n",
      "['plague', 'endless', 'vision', 'nightmare', 'jenny', 'adams', 'suspect', 'child', 'responsible', 'brutal', 'murder', 'mother']\n"
     ]
    }
   ],
   "source": [
    "doc_sample = df_new.iloc[1]['Plot']\n",
    "\n",
    "from gensim import parsing\n",
    "\n",
    "print('original document: ')\n",
    "words = []\n",
    "for word in doc_sample.split(' '):\n",
    "    words.append(word)\n",
    "print(words)\n",
    "print('\\n\\n tokenized and lemmatized document: ')\n",
    "print(normalize_text(doc_sample))\n",
    "print('\\n\\n simpler tokenized and lemmatized document: ')\n",
    "print(preprocess(doc_sample))\n",
    "print('\\n\\n method removing stop words: ')\n",
    "print(prepare_text_for_lda(doc_sample))\n",
    "\n",
    "# The method removing stopwords appears successful but the lemmatisation is pretty bad in all cases "
   ]
  },
  {
   "cell_type": "code",
   "execution_count": 12,
   "id": "37683f57",
   "metadata": {},
   "outputs": [
    {
     "name": "stdout",
     "output_type": "stream",
     "text": [
      "original document: \n",
      "['garlands', 'novel', 'centers', 'on', 'a', 'young', 'nicotineaddicted', 'traveler', 'named', 'richard', 'an', 'avid', 'popculture', 'buff', 'with', 'a', 'particular', 'love', 'for', 'video', 'games', 'and', 'vietnam', 'war', 'movies', 'while', 'at', 'a', 'hotel', 'in', 'bangkok', 'he', 'finds', 'a', 'map', 'left', 'by', 'his', 'strange', 'whackedout', 'neighbor', 'who', 'just', 'committed', 'suicide', 'the', 'map', 'supposedly', 'leads', 'to', 'a', 'legendary', 'island', 'paradise', 'where', 'some', 'other', 'wayward', 'souls', 'have', 'settled']\n",
      "\n",
      "\n",
      " tokenized and lemmatized document: \n",
      "['garland', 'novel', 'center', 'on', 'a', 'young', 'nicotineaddicted', 'traveler', 'name', 'richard', 'an', 'avid', 'popculture', 'buff', 'with', 'a', 'particular', 'love', 'for', 'video', 'game', 'and', 'vietnam', 'war', 'movie', 'while', 'at', 'a', 'hotel', 'in', 'bangkok', 'he', 'find', 'a', 'map', 'leave', 'by', 'his', 'strange', 'whackedout', 'neighbor', 'who', 'just', 'commit', 'suicide', 'the', 'map', 'supposedly', 'lead', 'to', 'a', 'legendary', 'island', 'paradise', 'where', 'some', 'other', 'wayward', 'soul', 'have', 'settle']\n",
      "\n",
      "\n",
      " simpler tokenized and lemmatized document: \n",
      "['garland', 'novel', 'center', 'on', 'a', 'young', 'nicotineaddicted', 'traveler', 'named', 'richard', 'an', 'avid', 'popculture', 'buff', 'with', 'a', 'particular', 'love', 'for', 'video', 'game', 'and', 'vietnam', 'war', 'movie', 'while', 'at', 'a', 'hotel', 'in', 'bangkok', 'he', 'find', 'a', 'map', 'left', 'by', 'his', 'strange', 'whackedout', 'neighbor', 'who', 'just', 'committed', 'suicide', 'the', 'map', 'supposedly', 'lead', 'to', 'a', 'legendary', 'island', 'paradise', 'where', 'some', 'other', 'wayward', 'soul', 'have', 'settled']\n",
      "\n",
      "\n",
      " method removing stop words: \n",
      "['garland', 'novel', 'center', 'young', 'nicotineaddicted', 'traveler', 'name', 'richard', 'popculture', 'particular', 'video', 'game', 'vietnam', 'movie', 'hotel', 'bangkok', 'find', 'strange', 'whackedout', 'neighbor', 'commit', 'suicide', 'supposedly', 'lead', 'legendary', 'island', 'paradise', 'wayward', 'soul', 'settle']\n"
     ]
    }
   ],
   "source": [
    "doc_sample = df_new.iloc[2]['Plot']\n",
    "\n",
    "from gensim import parsing\n",
    "\n",
    "print('original document: ')\n",
    "words = []\n",
    "for word in doc_sample.split(' '):\n",
    "    words.append(word)\n",
    "print(words)\n",
    "print('\\n\\n tokenized and lemmatized document: ')\n",
    "print(normalize_text(doc_sample))\n",
    "print('\\n\\n simpler tokenized and lemmatized document: ')\n",
    "print(preprocess(doc_sample))\n",
    "print('\\n\\n method removing stop words: ')\n",
    "print(prepare_text_for_lda(doc_sample))\n",
    "\n",
    "#Again removing stop words looks good\n",
    "# first lemmatisation seems to be doing better "
   ]
  },
  {
   "cell_type": "code",
   "execution_count": 13,
   "id": "4acbce51",
   "metadata": {},
   "outputs": [
    {
     "data": {
      "text/plain": [
       "0    [kaisa, successful, london, lawyer, snort, one...\n",
       "1    [plague, endless, vision, nightmare, jenny, ad...\n",
       "2    [garland, novel, center, young, nicotineaddict...\n",
       "3    [bronx, billy, connolly, irish, twice, brain, ...\n",
       "4    [woman, promise, years, earlier, suppose, marr...\n",
       "5    [county, durham, endless, violent, strike, mar...\n",
       "6    [intersect, story, daniel, plainview, sunday, ...\n",
       "7    [brendan, behan, sixteen, yearold, republican,...\n",
       "8    [quickwitted, young, woman, come, mexican, bor...\n",
       "9    [beautiful, psychiatrist, befriend, abuse, pat...\n",
       "Name: Plot, dtype: object"
      ]
     },
     "execution_count": 13,
     "metadata": {},
     "output_type": "execute_result"
    }
   ],
   "source": [
    "processed_df = df_new['Plot'].map(prepare_text_for_lda) # with stop words removed\n",
    "processed_df[:10]\n"
   ]
  },
  {
   "cell_type": "code",
   "execution_count": 14,
   "id": "6deb5bdc",
   "metadata": {},
   "outputs": [
    {
     "name": "stdout",
     "output_type": "stream",
     "text": [
      "0 aberdeen\n",
      "1 agree\n",
      "2 airline\n",
      "3 alcoholic\n",
      "4 along\n",
      "5 ban\n",
      "6 begging\n",
      "7 call\n",
      "8 clive\n",
      "9 collect\n",
      "10 complicate\n"
     ]
    }
   ],
   "source": [
    "dictionary = gensim.corpora.Dictionary(processed_df)\n",
    "\n",
    "count = 0\n",
    "for k,v  in dictionary.iteritems():\n",
    "    print(k, v)\n",
    "    count += 1\n",
    "    if count > 10:\n",
    "        break"
   ]
  },
  {
   "cell_type": "code",
   "execution_count": 15,
   "id": "3a838ee3",
   "metadata": {},
   "outputs": [],
   "source": [
    "dictionary.filter_extremes(no_below=15, no_above=0.5, keep_n=100000)\n",
    "# gets rid of too common or uncommon words"
   ]
  },
  {
   "cell_type": "code",
   "execution_count": 16,
   "id": "f2133c33",
   "metadata": {},
   "outputs": [
    {
     "name": "stdout",
     "output_type": "stream",
     "text": [
      "[[(0, 1), (1, 1), (2, 1), (3, 1), (4, 1), (5, 1), (6, 1), (7, 1), (8, 1), (9, 1), (10, 1), (11, 1), (12, 1), (13, 1), (14, 1), (15, 1), (16, 1), (17, 1), (18, 1), (19, 1), (20, 1), (21, 1), (22, 1), (23, 1), (24, 2), (25, 1), (26, 1), (27, 1), (28, 1), (29, 1), (30, 1), (31, 1)]]\n"
     ]
    }
   ],
   "source": [
    "# Create Corpus \n",
    "# Term Document Frequency \n",
    "corpus = [dictionary.doc2bow(text) for text in processed_df ]  \n",
    "# View \n",
    "print(corpus[:1])"
   ]
  },
  {
   "cell_type": "code",
   "execution_count": 17,
   "id": "57711a5e",
   "metadata": {},
   "outputs": [],
   "source": [
    "lda_model = gensim.models.ldamodel.LdaModel(corpus=corpus,\n",
    "                                           id2word=dictionary,\n",
    "                                           num_topics=10, \n",
    "                                           random_state=100,\n",
    "                                           update_every=1,\n",
    "                                           chunksize=100,\n",
    "                                           passes=10,\n",
    "                                           alpha='auto',\n",
    "                                           per_word_topics=True)"
   ]
  },
  {
   "cell_type": "code",
   "execution_count": 18,
   "id": "d5b461c6",
   "metadata": {
    "scrolled": true
   },
   "outputs": [
    {
     "name": "stdout",
     "output_type": "stream",
     "text": [
      "[(0,\n",
      "  '0.032*\"night\" + 0.026*\"threaten\" + 0.021*\"arrive\" + 0.020*\"across\" + '\n",
      "  '0.019*\"street\" + 0.018*\"steal\" + 0.018*\"determine\" + 0.017*\"trap\" + '\n",
      "  '0.014*\"thought\" + 0.014*\"monster\"'),\n",
      " (1,\n",
      "  '0.045*\"escape\" + 0.043*\"power\" + 0.029*\"force\" + 0.027*\"earth\" + '\n",
      "  '0.026*\"human\" + 0.022*\"become\" + 0.018*\"involve\" + 0.018*\"santa\" + '\n",
      "  '0.016*\"mountain\" + 0.016*\"center\"'),\n",
      " (2,\n",
      "  '0.058*\"family\" + 0.029*\"discover\" + 0.027*\"find\" + 0.022*\"return\" + '\n",
      "  '0.019*\"life\" + 0.018*\"journey\" + 0.017*\"house\" + 0.015*\"child\" + '\n",
      "  '0.015*\"world\" + 0.013*\"parent\"'),\n",
      " (3,\n",
      "  '0.047*\"bring\" + 0.044*\"could\" + 0.037*\"lead\" + 0.029*\"detective\" + '\n",
      "  '0.027*\"search\" + 0.025*\"become\" + 0.024*\"enemy\" + 0.021*\"threat\" + '\n",
      "  '0.020*\"life\" + 0.019*\"getting\"'),\n",
      " (4,\n",
      "  '0.051*\"learn\" + 0.050*\"turn\" + 0.037*\"murder\" + 0.024*\"teenager\" + '\n",
      "  '0.022*\"include\" + 0.021*\"mystery\" + 0.021*\"member\" + 0.020*\"star\" + '\n",
      "  '0.019*\"greatest\" + 0.017*\"director\"'),\n",
      " (5,\n",
      "  '0.031*\"friend\" + 0.023*\"young\" + 0.021*\"years\" + 0.020*\"father\" + '\n",
      "  '0.018*\"mother\" + 0.017*\"school\" + 0.014*\"together\" + 0.013*\"decide\" + '\n",
      "  '0.013*\"death\" + 0.012*\"however\"'),\n",
      " (6,\n",
      "  '0.070*\"mysterious\" + 0.028*\"great\" + 0.027*\"create\" + 0.025*\"finally\" + '\n",
      "  '0.025*\"hope\" + 0.025*\"figure\" + 0.023*\"nearly\" + 0.021*\"course\" + '\n",
      "  '0.020*\"charlie\" + 0.019*\"theyre\"'),\n",
      " (7,\n",
      "  '0.018*\"world\" + 0.017*\"story\" + 0.013*\"take\" + 0.011*\"follow\" + 0.010*\"try\" '\n",
      "  '+ 0.009*\"secret\" + 0.009*\"force\" + 0.009*\"daughter\" + 0.008*\"start\" + '\n",
      "  '0.008*\"first\"'),\n",
      " (8,\n",
      "  '0.056*\"begin\" + 0.027*\"christmas\" + 0.026*\"yearold\" + 0.024*\"truth\" + '\n",
      "  '0.022*\"student\" + 0.017*\"girlfriend\" + 0.016*\"action\" + 0.016*\"peter\" + '\n",
      "  '0.014*\"wedding\" + 0.014*\"situation\"'),\n",
      " (9,\n",
      "  '0.051*\"three\" + 0.045*\"mission\" + 0.030*\"deadly\" + 0.027*\"challenge\" + '\n",
      "  '0.027*\"embark\" + 0.023*\"country\" + 0.021*\"target\" + 0.019*\"island\" + '\n",
      "  '0.019*\"planet\" + 0.018*\"officer\"')]\n"
     ]
    }
   ],
   "source": [
    "pprint(lda_model.print_topics())\n",
    "doc_lda = lda_model[corpus]"
   ]
  },
  {
   "cell_type": "code",
   "execution_count": 19,
   "id": "8853f6cb",
   "metadata": {},
   "outputs": [],
   "source": [
    "import pyLDAvis.gensim_models\n",
    "pyLDAvis.enable_notebook()"
   ]
  },
  {
   "cell_type": "code",
   "execution_count": 20,
   "id": "fd9b55bb",
   "metadata": {
    "scrolled": true
   },
   "outputs": [
    {
     "name": "stderr",
     "output_type": "stream",
     "text": [
      "C:\\Users\\user\\anaconda3\\lib\\site-packages\\pyLDAvis\\_prepare.py:246: FutureWarning: In a future version of pandas all arguments of DataFrame.drop except for the argument 'labels' will be keyword-only.\n",
      "  default_term_info = default_term_info.sort_values(\n"
     ]
    },
    {
     "data": {
      "text/html": [
       "\n",
       "<link rel=\"stylesheet\" type=\"text/css\" href=\"https://cdn.jsdelivr.net/gh/bmabey/pyLDAvis@3.3.1/pyLDAvis/js/ldavis.v1.0.0.css\">\n",
       "\n",
       "\n",
       "<div id=\"ldavis_el82922374718914848702276499\"></div>\n",
       "<script type=\"text/javascript\">\n",
       "\n",
       "var ldavis_el82922374718914848702276499_data = {\"mdsDat\": {\"x\": [0.18425028462915052, 0.11442633002422896, 0.1349998127812488, 0.14370411867754385, -0.27594053196617335, -0.18934551653569964, 0.02786438891310544, 0.05609460214642551, -0.18303000137324338, -0.013023487296586256], \"y\": [0.08929739715806043, 0.2738818241567856, -0.2904048542450435, -0.015620680139367907, -0.07008870753737419, 0.14943345351566012, -0.05419317808107183, -0.12197078460642895, -0.0675255262879855, 0.10719105606676656], \"topics\": [1, 2, 3, 4, 5, 6, 7, 8, 9, 10], \"cluster\": [1, 1, 1, 1, 1, 1, 1, 1, 1, 1], \"Freq\": [28.91830404020302, 19.64105218145508, 14.774278021884385, 6.86596039727882, 5.9679771776997255, 5.760006811587782, 5.052468561041402, 4.806316262795296, 4.144961359066334, 4.068675186988161]}, \"tinfo\": {\"Term\": [\"family\", \"begin\", \"mysterious\", \"escape\", \"friend\", \"force\", \"discover\", \"power\", \"learn\", \"turn\", \"find\", \"bring\", \"three\", \"become\", \"years\", \"young\", \"father\", \"murder\", \"could\", \"life\", \"world\", \"return\", \"mission\", \"mother\", \"lead\", \"night\", \"school\", \"earth\", \"journey\", \"human\", \"take\", \"follow\", \"try\", \"secret\", \"start\", \"relationship\", \"struggle\", \"break\", \"fight\", \"former\", \"couple\", \"place\", \"american\", \"event\", \"base\", \"behind\", \"know\", \"whose\", \"small\", \"career\", \"heart\", \"everything\", \"music\", \"college\", \"james\", \"love\", \"history\", \"kill\", \"married\", \"problem\", \"change\", \"local\", \"around\", \"people\", \"story\", \"group\", \"world\", \"attempt\", \"first\", \"dangerous\", \"daughter\", \"force\", \"brother\", \"woman\", \"along\", \"young\", \"years\", \"father\", \"mother\", \"together\", \"decide\", \"however\", \"dream\", \"name\", \"future\", \"call\", \"sister\", \"survive\", \"confront\", \"little\", \"chance\", \"black\", \"later\", \"different\", \"another\", \"wealthy\", \"falls\", \"boyfriend\", \"taking\", \"crime\", \"something\", \"every\", \"spend\", \"right\", \"desperate\", \"community\", \"death\", \"school\", \"friend\", \"husband\", \"order\", \"living\", \"young\", \"meet\", \"become\", \"woman\", \"family\", \"discover\", \"find\", \"return\", \"journey\", \"child\", \"parent\", \"realize\", \"come\", \"adventure\", \"agent\", \"experience\", \"never\", \"michael\", \"killer\", \"battle\", \"teenage\", \"childhood\", \"move\", \"movie\", \"point\", \"happen\", \"friendship\", \"david\", \"middle\", \"making\", \"offer\", \"alone\", \"always\", \"convince\", \"house\", \"protect\", \"tell\", \"life\", \"world\", \"become\", \"escape\", \"power\", \"earth\", \"human\", \"involve\", \"santa\", \"mountain\", \"center\", \"strange\", \"soldier\", \"continue\", \"promise\", \"kidnap\", \"beyond\", \"vacation\", \"supernatural\", \"result\", \"blood\", \"hero\", \"leader\", \"there\", \"professor\", \"choose\", \"disappear\", \"phone\", \"richard\", \"novel\", \"video\", \"arrest\", \"harsh\", \"force\", \"become\", \"first\", \"begin\", \"christmas\", \"yearold\", \"truth\", \"student\", \"girlfriend\", \"action\", \"peter\", \"wedding\", \"situation\", \"quest\", \"show\", \"teacher\", \"angeles\", \"enough\", \"revenge\", \"perfect\", \"skill\", \"unexpectedly\", \"romance\", \"whether\", \"interview\", \"sarah\", \"hostage\", \"special\", \"serial\", \"unravel\", \"impossible\", \"incident\", \"victim\", \"night\", \"threaten\", \"arrive\", \"across\", \"street\", \"steal\", \"determine\", \"trap\", \"monster\", \"thought\", \"beloved\", \"inside\", \"hotel\", \"frank\", \"filmmaker\", \"think\", \"hunter\", \"direct\", \"hours\", \"magic\", \"holiday\", \"eddie\", \"existence\", \"chris\", \"witch\", \"choice\", \"emily\", \"ahead\", \"california\", \"robert\", \"learn\", \"turn\", \"teenager\", \"mystery\", \"member\", \"star\", \"greatest\", \"director\", \"musical\", \"feature\", \"prince\", \"reveal\", \"queen\", \"curse\", \"weekend\", \"green\", \"violence\", \"include\", \"wonder\", \"second\", \"international\", \"mexico\", \"worse\", \"process\", \"grace\", \"accidentally\", \"brilliant\", \"solve\", \"innocent\", \"difficult\", \"murder\", \"bring\", \"could\", \"lead\", \"detective\", \"search\", \"enemy\", \"threat\", \"elite\", \"terrify\", \"team\", \"sinister\", \"modern\", \"legend\", \"global\", \"unleash\", \"mile\", \"stage\", \"imagine\", \"universe\", \"military\", \"actor\", \"outrageous\", \"thief\", \"strength\", \"stick\", \"experiment\", \"underground\", \"fully\", \"facing\", \"jacob\", \"getting\", \"become\", \"life\", \"three\", \"mission\", \"deadly\", \"challenge\", \"embark\", \"country\", \"target\", \"island\", \"planet\", \"officer\", \"academy\", \"alien\", \"remote\", \"doctor\", \"fighting\", \"engage\", \"month\", \"better\", \"captain\", \"knight\", \"redemption\", \"restore\", \"join\", \"organization\", \"defend\", \"summon\", \"alice\", \"runaway\", \"fighter\", \"ending\", \"mysterious\", \"great\", \"create\", \"finally\", \"hope\", \"figure\", \"nearly\", \"course\", \"charlie\", \"theyre\", \"conflict\", \"receive\", \"light\", \"witness\", \"hire\", \"veteran\", \"refuse\", \"humanity\", \"demand\", \"anything\", \"neighborhood\", \"balance\", \"client\", \"given\", \"arm\", \"scheme\", \"staff\", \"kevin\", \"ambitious\", \"previously\", \"want\", \"become\"], \"Freq\": [2352.0, 928.0, 784.0, 863.0, 1806.0, 1278.0, 1173.0, 810.0, 710.0, 698.0, 1089.0, 623.0, 585.0, 1900.0, 1130.0, 1692.0, 1107.0, 705.0, 582.0, 1072.0, 2012.0, 883.0, 519.0, 979.0, 488.0, 517.0, 977.0, 514.0, 717.0, 485.0, 1015.6538646045974, 880.5085937499877, 777.0957697547942, 731.6950830247238, 671.4578678970491, 611.5106249996749, 595.3253280507242, 547.6152329030454, 539.4846003707173, 538.7042918632629, 481.14632797089985, 460.6865236896167, 456.29011057474315, 444.5169109602491, 431.9820603696531, 426.85525321865225, 415.8141201281557, 412.7166354260957, 412.5950269747316, 390.32228300851807, 386.3361869178072, 379.66307181478743, 375.8068351156005, 359.5866760861549, 348.4663042370067, 334.35556124228725, 307.2545863763058, 307.2415781373151, 294.6173795280518, 292.8752232464292, 578.4430124902567, 392.23114916440534, 398.2571601272352, 525.207872246477, 1340.24971579616, 563.1414209655376, 1399.38056161448, 449.8205929951259, 656.3378342222426, 410.7899665659898, 681.6791474335597, 723.4060101414894, 486.5902016556989, 645.3754567272352, 435.46588976973584, 434.1573352600692, 1129.2391136884721, 1106.2134841961297, 978.1984400156606, 774.7137975953411, 718.349022731325, 637.3492203839279, 635.4700243232454, 503.22060445093894, 453.45608797704887, 427.77241234535677, 409.8680237750912, 379.4648508850932, 364.48742301592114, 364.0949940497268, 358.1461586559735, 355.0702890090689, 334.1921390620812, 330.7443883184331, 328.5029035324951, 317.7708573392887, 309.05207321985233, 299.1769539606096, 297.3569529292417, 295.8056140287889, 293.91990525272763, 286.2754667399573, 275.5544770170451, 271.3347170701857, 265.6743848704782, 262.41989516923223, 682.8216049923893, 943.7648555433616, 1683.0836606124683, 414.0099845405656, 541.0481719003872, 444.1853638508044, 1257.486697148279, 360.12890184256173, 569.0110959699808, 449.7878136615061, 2351.0101654671525, 1172.1619434163797, 1088.237571345006, 882.2735755376341, 715.9005187311691, 619.6734228345836, 513.8156992668733, 497.6649397547116, 455.3834100880916, 447.57249805062395, 436.5554655829151, 429.9242907193014, 411.32754659765686, 384.0243307400473, 371.0226510904421, 342.53688780464523, 331.0695310682236, 328.93282634104776, 300.26568772152075, 291.558228598898, 269.7002982526427, 266.7057823784199, 258.070972127955, 240.111529129215, 235.14645532117257, 235.0657174737039, 230.18778053819995, 213.58540555938865, 213.10517486787182, 205.9422163362885, 708.772878260802, 392.15052293258765, 331.6235689124005, 768.3696380966538, 611.753214689395, 251.37770583413842, 862.0156309676773, 809.4182338379427, 513.1882350098059, 484.1694013346693, 336.79800576114957, 335.40726503292734, 310.4899181697675, 296.35336216523837, 277.6730644325056, 266.6924390866073, 259.77802110907106, 252.69936576171125, 239.96278067500435, 235.77612197964402, 231.68215344829758, 212.90891847190576, 193.8067322451227, 191.27559541482776, 187.5035893096248, 183.86892419001896, 181.57254831968459, 176.8590452267342, 170.39800074945558, 161.7297408566404, 157.17068019043901, 156.76319290999027, 155.95550719862393, 153.7329375479975, 151.97131262389715, 147.89108348567424, 552.5594940331114, 417.60445067767085, 172.9139068844832, 927.3068197791068, 449.43746175249146, 424.7945357365789, 399.02716329716253, 360.148039904365, 274.9527075417827, 262.3512067512744, 257.6489650963799, 232.96452813883022, 225.86224533391615, 221.60524150979623, 221.46047478539506, 220.39017973808458, 195.1354198728538, 179.22088266164036, 177.4899868457713, 176.60172019220295, 167.1434229935511, 163.8877900996775, 162.89071446272695, 162.67449246628374, 161.62923284275442, 160.98279120173873, 160.95902902561312, 159.38888456133884, 158.3355866032131, 156.97265935979405, 154.08089916940625, 149.0241884352771, 140.28789935898035, 516.2690108389888, 415.8625216906715, 333.06685941840243, 315.5117910256425, 309.7282179170579, 287.4820932722847, 285.6083061963401, 268.21083028794584, 224.58933721697474, 229.15799427054273, 218.68083312538778, 213.5356398691516, 198.6045218748989, 198.1528130149296, 165.33326018879836, 163.26939679621648, 161.77274197898694, 153.40614158602392, 152.5149238103842, 150.87345387763597, 146.74267710639754, 145.12257188192999, 142.60387561451589, 137.4281824975325, 134.56566692610295, 129.0113757803977, 126.34539183593833, 125.09301721408174, 120.71420698790753, 119.6279085495468, 709.0966940844547, 697.5133684382564, 334.64516520458704, 292.74198675511195, 289.31186718835806, 275.6769997020694, 267.5285209169491, 243.50511246366702, 226.980569438108, 202.36943102702884, 198.24455503949684, 187.1857642571913, 182.29902764620886, 166.78354117862045, 159.82688602021628, 156.7196770196024, 150.03219192208215, 305.3350832482584, 137.11939266965845, 134.25128865751, 131.1674953482873, 130.7987014556442, 127.77538894221115, 126.54055213197447, 117.58447225469617, 115.59951513438541, 114.95753817551181, 114.0287806856897, 104.62001042858745, 99.13440095175822, 518.0686525333932, 622.1969602643854, 581.2594300307113, 486.9904832754023, 390.35669109996894, 362.85387663191506, 313.82207123615865, 276.72130867153265, 252.12186584299337, 237.71024201882625, 208.0220414530352, 203.97718942718075, 189.48365624686414, 165.90006239551172, 158.51810212747347, 153.7602310094905, 153.3194153629188, 145.95134138693365, 144.5247225481156, 144.4373278595181, 141.25404365857372, 137.87742619754135, 131.06208594616083, 129.64863684695896, 128.10996403223206, 127.13420492845471, 126.28315065740333, 125.55531869679466, 122.59152191988528, 120.21285197946953, 119.86471868430561, 255.5349039347842, 334.4300451953928, 263.5484310498388, 584.1986288382923, 518.3313425256242, 345.8750316901563, 312.97993607560835, 308.40339036415037, 267.33855985424054, 242.75181260068126, 221.31315721050174, 215.9863301578117, 203.54306007846466, 186.64736779838606, 185.40773084791246, 183.20517246804562, 182.4042615196915, 158.95013863791598, 149.05581144120202, 148.6132818259212, 144.14032863762142, 140.3457503893612, 132.97203608257456, 116.4118928022228, 115.51404831733744, 113.11483141721412, 107.89763792035022, 104.64415294382832, 98.56118464167449, 96.63712106411472, 92.02800491726698, 89.2474624797485, 82.95579620951665, 783.4934671065474, 310.10472407664645, 308.39527482487574, 280.35126695039384, 279.4320251365891, 278.37998396272604, 257.107864954904, 235.70782014993017, 228.72961014803383, 218.03006882686384, 209.05139720959747, 208.63547103622196, 199.3847793090864, 182.89531975547624, 172.30354064930404, 171.07363534593134, 170.37722830648195, 155.4991506240103, 152.59289655513126, 147.52133731179887, 144.18777845056943, 129.3691143107416, 126.19873614056516, 121.9565506293725, 119.07919281437923, 118.27513860111658, 114.98445872683307, 114.13577899227816, 113.6488619497834, 113.5941441791246, 205.28156034362746, 124.18574549437531], \"Total\": [2352.0, 928.0, 784.0, 863.0, 1806.0, 1278.0, 1173.0, 810.0, 710.0, 698.0, 1089.0, 623.0, 585.0, 1900.0, 1130.0, 1692.0, 1107.0, 705.0, 582.0, 1072.0, 2012.0, 883.0, 519.0, 979.0, 488.0, 517.0, 977.0, 514.0, 717.0, 485.0, 1016.9543802514331, 881.8091948931436, 778.3962253207956, 732.9955779779385, 672.7583982683228, 612.8110889680371, 596.6258112702642, 548.9157743241727, 540.7851121744729, 540.0047970802176, 482.44684159018493, 461.98699924589323, 457.59058278638184, 445.81741229834614, 433.28257746735983, 428.1557336689675, 417.1145519360105, 414.0171773810867, 413.8955443065698, 391.62278027210266, 387.6368182378205, 380.963523730956, 377.10739114384364, 360.8871623536123, 349.7668275626298, 335.6560551725592, 308.555127504154, 308.5420688981286, 295.91784642380895, 294.17577364668807, 583.2035456142689, 398.47668210738294, 405.8968007582553, 551.3798142623375, 1589.3159213045801, 612.4837825759562, 2012.308266103117, 478.52288971436917, 830.4456475959792, 428.16544288405396, 948.124867822131, 1278.8548988171856, 605.6594709183446, 1176.2996924508304, 617.1089103155825, 1692.8142506839204, 1130.537041299999, 1107.5113662693363, 979.4963746748916, 776.0117372439382, 719.6469516664235, 638.6471015269569, 636.7679555810232, 504.5184779468512, 454.7540824405792, 429.0703313785102, 411.19702025521207, 380.7627937981002, 365.7854842954504, 365.3928983742569, 359.44410967542524, 356.36823046888344, 335.48999629430165, 332.0423729660302, 329.800973684555, 319.06888364479005, 310.3500316084693, 300.47490064021696, 298.6549916689859, 297.1035289903291, 295.2177924807857, 287.5733823909113, 276.8523800171922, 272.6326505975981, 266.97241062529923, 263.71786171693606, 694.5493225301601, 977.9838248361547, 1806.0387599302746, 424.86633196629873, 587.498560328021, 479.8695463702804, 1692.8142506839204, 477.0248651102313, 1900.0416128854622, 1176.2996924508304, 2352.3123898933486, 1173.4641525963111, 1089.5397998306914, 883.5758299439075, 717.2028041488188, 620.9755701119302, 515.1179340850949, 498.9671528775689, 456.6871904512886, 448.8747481598481, 437.85765262815426, 431.2265422076203, 412.62971780963574, 385.3265472868177, 372.32494485948524, 343.8390820974294, 332.371820773028, 330.2350942606126, 301.5678580627923, 292.86036697282015, 271.00274174575645, 268.0079753192393, 259.37312080960936, 241.41365709780104, 236.4488296486693, 236.3679006543546, 231.48996131443005, 214.88759101625115, 214.40731615072323, 207.24437557997436, 758.0819042990972, 417.34806229065094, 357.4160785567013, 1072.6687241223551, 2012.308266103117, 1900.0416128854622, 863.2641085393076, 810.666729527194, 514.4366541786848, 485.41785205644663, 338.04656493070905, 336.6564506940283, 311.738461816067, 297.6018225831059, 278.92153851334353, 267.940887628707, 261.02645479194433, 253.94790850487527, 241.21126373765236, 237.0246104424809, 232.93070920480207, 214.15749858831114, 195.0551124295941, 192.5240422903179, 188.75206096706998, 185.11735041709633, 182.8209905306215, 178.10750668622077, 171.64647315784362, 162.97825313272165, 158.41911755082586, 158.01165211558416, 157.20394113472722, 154.98137101977417, 153.21971919872684, 149.13990719845296, 1278.8548988171856, 1900.0416128854622, 830.4456475959792, 928.5975032332748, 450.7284272283934, 426.08531600405087, 400.3179259790463, 361.4386785784258, 276.2433518520535, 263.64190402287505, 258.9396044331951, 234.25516196806345, 227.15302081601433, 222.89601797013873, 222.75115731037152, 221.6809190055239, 196.42610036668674, 180.51162306885945, 178.78066359502708, 177.89236100698625, 168.43414553698037, 165.17857194153964, 164.1813803506592, 163.96531377444614, 162.91994067465185, 162.27350584714412, 162.2498881446196, 160.67960326839815, 159.626534204316, 158.26343264218124, 155.37172033242462, 150.3149976513728, 141.57858509287695, 517.5672784790625, 417.160858535333, 334.3651579546273, 316.81012291098517, 311.02649547074316, 288.78054114181424, 286.9066796898017, 269.5091749459991, 225.88768156811778, 230.49626404705143, 219.97919400759298, 214.83404155723943, 199.90283640415439, 199.4510292392246, 166.6317638784082, 164.56762290992378, 163.0710760054582, 154.7045216336445, 153.81329543895586, 152.1717837181356, 148.04104924015974, 146.4208453994703, 143.9021995554005, 138.72639685392497, 135.86402582602125, 130.30965713118937, 127.64374656095475, 126.39154706007143, 122.01257502327697, 120.92615749995578, 710.3778347518559, 698.7945794635834, 335.9263883616203, 294.0232721286152, 290.5930700669049, 276.9582090894244, 268.8098246813026, 244.78629025034817, 228.26186629987487, 203.65063947256868, 199.5257080128403, 188.46692825134974, 183.58013728792884, 168.0647749072661, 161.1080660169517, 158.00100709522226, 151.31342115374386, 308.1360359964882, 138.4005941942076, 135.53242510130585, 132.44862620882424, 132.07986876771622, 129.0565751579487, 127.8216784254881, 118.86554551004674, 116.88071925202651, 116.23873236496291, 115.30994967554824, 105.90124140774078, 100.41555814327918, 705.6560916939651, 623.4551979442618, 582.5177045783545, 488.24881119022206, 391.6150268745503, 364.1121707822128, 315.08035827414153, 277.9796589524599, 253.38026464640882, 238.9686226879852, 209.28037357360563, 205.23554346309734, 190.7419954639463, 167.15838424947535, 159.7764162768583, 155.01859964412938, 154.57768148851244, 147.2095700373776, 145.7830327748162, 145.6956019646128, 142.51226918691899, 139.13574809895448, 132.32081136902528, 130.906919048306, 129.3682584894499, 128.39250732890955, 127.54138970728116, 126.81359357339477, 123.85019741188346, 121.47122151268978, 121.12300027636557, 319.08495342868036, 1900.0416128854622, 1072.6687241223551, 585.4982260986475, 519.6309487802456, 347.1746757343982, 314.2795735712921, 309.70309165522025, 268.63817817573, 244.05148010996615, 222.61271596765997, 217.28590040189374, 204.84263241582192, 187.94719617726085, 186.7072946544185, 184.50488201494332, 183.70390443726927, 160.24980839637948, 150.355792175288, 149.91294673838618, 145.4399051702095, 141.64529170872063, 134.27198239731015, 117.7116027644612, 116.81388630641617, 114.41440196330323, 109.19718011854312, 105.9438884453737, 99.86101943155208, 97.93673596722822, 93.32819560572698, 90.54728355602587, 84.25559091624216, 784.7702211448484, 311.3814136519092, 309.67197016309626, 281.6279113744047, 280.70875166281553, 279.65679745495197, 258.3849375481996, 236.98450695485786, 230.00628592955601, 219.30676237139, 210.3283245175676, 209.9121037949794, 200.66154710995636, 184.1721071744113, 173.5801870648037, 172.35039534487595, 171.65392501759223, 156.77587574799338, 153.86964466969593, 148.79799404991178, 145.46443417768828, 130.6458421188855, 127.4755034835135, 123.23318928157518, 120.35586758572565, 119.55191669880796, 116.2611419737321, 115.4125181647267, 114.92564997961101, 114.87144984842496, 497.16708459759724, 1900.0416128854622], \"Category\": [\"Default\", \"Default\", \"Default\", \"Default\", \"Default\", \"Default\", \"Default\", \"Default\", \"Default\", \"Default\", \"Default\", \"Default\", \"Default\", \"Default\", \"Default\", \"Default\", \"Default\", \"Default\", \"Default\", \"Default\", \"Default\", \"Default\", \"Default\", \"Default\", \"Default\", \"Default\", \"Default\", \"Default\", \"Default\", \"Default\", \"Topic1\", \"Topic1\", \"Topic1\", \"Topic1\", \"Topic1\", \"Topic1\", \"Topic1\", \"Topic1\", \"Topic1\", \"Topic1\", \"Topic1\", \"Topic1\", \"Topic1\", \"Topic1\", \"Topic1\", \"Topic1\", \"Topic1\", \"Topic1\", \"Topic1\", \"Topic1\", \"Topic1\", \"Topic1\", \"Topic1\", \"Topic1\", \"Topic1\", \"Topic1\", \"Topic1\", \"Topic1\", \"Topic1\", \"Topic1\", \"Topic1\", \"Topic1\", \"Topic1\", \"Topic1\", \"Topic1\", \"Topic1\", \"Topic1\", \"Topic1\", \"Topic1\", \"Topic1\", \"Topic1\", \"Topic1\", \"Topic1\", \"Topic1\", \"Topic1\", \"Topic1\", \"Topic2\", \"Topic2\", \"Topic2\", \"Topic2\", \"Topic2\", \"Topic2\", \"Topic2\", \"Topic2\", \"Topic2\", \"Topic2\", \"Topic2\", \"Topic2\", \"Topic2\", \"Topic2\", \"Topic2\", \"Topic2\", \"Topic2\", \"Topic2\", \"Topic2\", \"Topic2\", \"Topic2\", \"Topic2\", \"Topic2\", \"Topic2\", \"Topic2\", \"Topic2\", \"Topic2\", \"Topic2\", \"Topic2\", \"Topic2\", \"Topic2\", \"Topic2\", \"Topic2\", \"Topic2\", \"Topic2\", \"Topic2\", \"Topic2\", \"Topic2\", \"Topic2\", \"Topic2\", \"Topic3\", \"Topic3\", \"Topic3\", \"Topic3\", \"Topic3\", \"Topic3\", \"Topic3\", \"Topic3\", \"Topic3\", \"Topic3\", \"Topic3\", \"Topic3\", \"Topic3\", \"Topic3\", \"Topic3\", \"Topic3\", \"Topic3\", \"Topic3\", \"Topic3\", \"Topic3\", \"Topic3\", \"Topic3\", \"Topic3\", \"Topic3\", \"Topic3\", \"Topic3\", \"Topic3\", \"Topic3\", \"Topic3\", \"Topic3\", \"Topic3\", \"Topic3\", \"Topic3\", \"Topic3\", \"Topic3\", \"Topic3\", \"Topic4\", \"Topic4\", \"Topic4\", \"Topic4\", \"Topic4\", \"Topic4\", \"Topic4\", \"Topic4\", \"Topic4\", \"Topic4\", \"Topic4\", \"Topic4\", \"Topic4\", \"Topic4\", \"Topic4\", \"Topic4\", \"Topic4\", \"Topic4\", \"Topic4\", \"Topic4\", \"Topic4\", \"Topic4\", \"Topic4\", \"Topic4\", \"Topic4\", \"Topic4\", \"Topic4\", \"Topic4\", \"Topic4\", \"Topic4\", \"Topic4\", \"Topic4\", \"Topic4\", \"Topic5\", \"Topic5\", \"Topic5\", \"Topic5\", \"Topic5\", \"Topic5\", \"Topic5\", \"Topic5\", \"Topic5\", \"Topic5\", \"Topic5\", \"Topic5\", \"Topic5\", \"Topic5\", \"Topic5\", \"Topic5\", \"Topic5\", \"Topic5\", \"Topic5\", \"Topic5\", \"Topic5\", \"Topic5\", \"Topic5\", \"Topic5\", \"Topic5\", \"Topic5\", \"Topic5\", \"Topic5\", \"Topic5\", \"Topic5\", \"Topic6\", \"Topic6\", \"Topic6\", \"Topic6\", \"Topic6\", \"Topic6\", \"Topic6\", \"Topic6\", \"Topic6\", \"Topic6\", \"Topic6\", \"Topic6\", \"Topic6\", \"Topic6\", \"Topic6\", \"Topic6\", \"Topic6\", \"Topic6\", \"Topic6\", \"Topic6\", \"Topic6\", \"Topic6\", \"Topic6\", \"Topic6\", \"Topic6\", \"Topic6\", \"Topic6\", \"Topic6\", \"Topic6\", \"Topic6\", \"Topic7\", \"Topic7\", \"Topic7\", \"Topic7\", \"Topic7\", \"Topic7\", \"Topic7\", \"Topic7\", \"Topic7\", \"Topic7\", \"Topic7\", \"Topic7\", \"Topic7\", \"Topic7\", \"Topic7\", \"Topic7\", \"Topic7\", \"Topic7\", \"Topic7\", \"Topic7\", \"Topic7\", \"Topic7\", \"Topic7\", \"Topic7\", \"Topic7\", \"Topic7\", \"Topic7\", \"Topic7\", \"Topic7\", \"Topic7\", \"Topic7\", \"Topic8\", \"Topic8\", \"Topic8\", \"Topic8\", \"Topic8\", \"Topic8\", \"Topic8\", \"Topic8\", \"Topic8\", \"Topic8\", \"Topic8\", \"Topic8\", \"Topic8\", \"Topic8\", \"Topic8\", \"Topic8\", \"Topic8\", \"Topic8\", \"Topic8\", \"Topic8\", \"Topic8\", \"Topic8\", \"Topic8\", \"Topic8\", \"Topic8\", \"Topic8\", \"Topic8\", \"Topic8\", \"Topic8\", \"Topic8\", \"Topic8\", \"Topic8\", \"Topic8\", \"Topic9\", \"Topic9\", \"Topic9\", \"Topic9\", \"Topic9\", \"Topic9\", \"Topic9\", \"Topic9\", \"Topic9\", \"Topic9\", \"Topic9\", \"Topic9\", \"Topic9\", \"Topic9\", \"Topic9\", \"Topic9\", \"Topic9\", \"Topic9\", \"Topic9\", \"Topic9\", \"Topic9\", \"Topic9\", \"Topic9\", \"Topic9\", \"Topic9\", \"Topic9\", \"Topic9\", \"Topic9\", \"Topic9\", \"Topic9\", \"Topic10\", \"Topic10\", \"Topic10\", \"Topic10\", \"Topic10\", \"Topic10\", \"Topic10\", \"Topic10\", \"Topic10\", \"Topic10\", \"Topic10\", \"Topic10\", \"Topic10\", \"Topic10\", \"Topic10\", \"Topic10\", \"Topic10\", \"Topic10\", \"Topic10\", \"Topic10\", \"Topic10\", \"Topic10\", \"Topic10\", \"Topic10\", \"Topic10\", \"Topic10\", \"Topic10\", \"Topic10\", \"Topic10\", \"Topic10\", \"Topic10\", \"Topic10\"], \"logprob\": [30.0, 29.0, 28.0, 27.0, 26.0, 25.0, 24.0, 23.0, 22.0, 21.0, 20.0, 19.0, 18.0, 17.0, 16.0, 15.0, 14.0, 13.0, 12.0, 11.0, 10.0, 9.0, 8.0, 7.0, 6.0, 5.0, 4.0, 3.0, 2.0, 1.0, -4.3642, -4.507, -4.6319, -4.6921, -4.778, -4.8715, -4.8983, -4.9819, -4.9968, -4.9983, -5.1113, -5.1547, -5.1643, -5.1905, -5.2191, -5.231, -5.2572, -5.2647, -5.265, -5.3205, -5.3307, -5.3482, -5.3584, -5.4025, -5.4339, -5.4753, -5.5598, -5.5598, -5.6018, -5.6077, -4.9271, -5.3156, -5.3004, -5.0237, -4.0868, -4.9539, -4.0437, -5.1786, -4.8008, -5.2694, -4.7629, -4.7035, -5.1, -4.8176, -5.211, -5.2141, -3.8713, -3.8919, -4.0149, -4.2481, -4.3236, -4.4433, -4.4462, -4.6796, -4.7837, -4.842, -4.8848, -4.9618, -5.0021, -5.0032, -5.0197, -5.0283, -5.0889, -5.0993, -5.1061, -5.1393, -5.1671, -5.1996, -5.2057, -5.2109, -5.2173, -5.2436, -5.2818, -5.2973, -5.3183, -5.3307, -4.3744, -4.0507, -3.4722, -4.8747, -4.6071, -4.8044, -3.7637, -5.0141, -4.5567, -4.7918, -2.8533, -3.5493, -3.6236, -3.8334, -4.0423, -4.1867, -4.374, -4.4059, -4.4947, -4.512, -4.537, -4.5523, -4.5965, -4.6652, -4.6996, -4.7795, -4.8135, -4.82, -4.9112, -4.9406, -5.0186, -5.0297, -5.0626, -5.1348, -5.1557, -5.156, -5.177, -5.2518, -5.2541, -5.2883, -4.0523, -4.6442, -4.8119, -3.9716, -4.1995, -5.0889, -3.0903, -3.1532, -3.6089, -3.6671, -4.0301, -4.0342, -4.1114, -4.158, -4.2231, -4.2635, -4.2897, -4.3174, -4.3691, -4.3867, -4.4042, -4.4887, -4.5827, -4.5958, -4.6158, -4.6353, -4.6479, -4.6742, -4.7114, -4.7636, -4.7922, -4.7948, -4.8, -4.8143, -4.8259, -4.8531, -3.535, -3.815, -4.6968, -2.8771, -3.6014, -3.6578, -3.7204, -3.8229, -4.0928, -4.1397, -4.1578, -4.2585, -4.2895, -4.3085, -4.3091, -4.314, -4.4357, -4.5208, -4.5305, -4.5355, -4.5905, -4.6102, -4.6163, -4.6176, -4.6241, -4.6281, -4.6282, -4.638, -4.6447, -4.6533, -4.6719, -4.7053, -4.7657, -3.4273, -3.6436, -3.8656, -3.9197, -3.9382, -4.0128, -4.0193, -4.0821, -4.2596, -4.2395, -4.2863, -4.3101, -4.3826, -4.3849, -4.566, -4.5785, -4.5877, -4.6408, -4.6467, -4.6575, -4.6852, -4.6963, -4.7139, -4.7508, -4.7719, -4.814, -4.8349, -4.8449, -4.8805, -4.8895, -2.9789, -2.9953, -3.7298, -3.8636, -3.8754, -3.9236, -3.9536, -4.0477, -4.118, -4.2328, -4.2534, -4.3108, -4.3372, -4.4262, -4.4688, -4.4884, -4.532, -3.8214, -4.622, -4.6431, -4.6664, -4.6692, -4.6926, -4.7023, -4.7757, -4.7927, -4.7983, -4.8064, -4.8925, -4.9464, -3.2928, -3.0597, -3.1277, -3.3047, -3.5259, -3.5989, -3.7441, -3.8699, -3.963, -4.0219, -4.1553, -4.1749, -4.2486, -4.3815, -4.427, -4.4575, -4.4604, -4.5096, -4.5195, -4.5201, -4.5424, -4.5665, -4.6172, -4.6281, -4.64, -4.6477, -4.6544, -4.6602, -4.6841, -4.7036, -4.7065, -3.9496, -3.6805, -3.9187, -2.9746, -3.0943, -3.4988, -3.5987, -3.6135, -3.7564, -3.8528, -3.9453, -3.9697, -4.029, -4.1157, -4.1223, -4.1343, -4.1387, -4.2763, -4.3406, -4.3435, -4.3741, -4.4008, -4.4547, -4.5877, -4.5955, -4.6165, -4.6637, -4.6943, -4.7542, -4.7739, -4.8228, -4.8535, -4.9266, -2.6625, -3.5894, -3.5949, -3.6903, -3.6935, -3.6973, -3.7768, -3.8637, -3.8938, -3.9417, -3.9837, -3.9857, -4.0311, -4.1174, -4.177, -4.1842, -4.1883, -4.2797, -4.2985, -4.3323, -4.3552, -4.4636, -4.4884, -4.5226, -4.5465, -4.5533, -4.5815, -4.5889, -4.5932, -4.5937, -4.0019, -4.5045], \"loglift\": [30.0, 29.0, 28.0, 27.0, 26.0, 25.0, 24.0, 23.0, 22.0, 21.0, 20.0, 19.0, 18.0, 17.0, 16.0, 15.0, 14.0, 13.0, 12.0, 11.0, 10.0, 9.0, 8.0, 7.0, 6.0, 5.0, 4.0, 3.0, 2.0, 1.0, 1.2394, 1.2392, 1.239, 1.2389, 1.2388, 1.2386, 1.2385, 1.2383, 1.2383, 1.2383, 1.238, 1.2379, 1.2378, 1.2378, 1.2377, 1.2377, 1.2376, 1.2375, 1.2375, 1.2374, 1.2373, 1.2373, 1.2372, 1.2371, 1.237, 1.2368, 1.2365, 1.2365, 1.2363, 1.2363, 1.2325, 1.2249, 1.2217, 1.1921, 1.0702, 1.1567, 0.8774, 1.1788, 1.0054, 1.1993, 0.9108, 0.6709, 1.0218, 0.6404, 0.8921, -0.12, 1.6264, 1.6264, 1.6262, 1.6259, 1.6257, 1.6255, 1.6255, 1.625, 1.6247, 1.6245, 1.6243, 1.6241, 1.624, 1.624, 1.6239, 1.6239, 1.6237, 1.6236, 1.6236, 1.6235, 1.6234, 1.6232, 1.6232, 1.6232, 1.6231, 1.623, 1.6228, 1.6228, 1.6227, 1.6226, 1.6105, 1.5919, 1.557, 1.6017, 1.5452, 1.5503, 1.3303, 1.3464, 0.4218, 0.6662, 1.9117, 1.9112, 1.9111, 1.9108, 1.9105, 1.9102, 1.9098, 1.9097, 1.9094, 1.9094, 1.9093, 1.9093, 1.9091, 1.9089, 1.9088, 1.9085, 1.9084, 1.9083, 1.908, 1.9078, 1.9075, 1.9074, 1.9072, 1.9069, 1.9068, 1.9068, 1.9066, 1.9062, 1.9062, 1.906, 1.845, 1.85, 1.8374, 1.5786, 0.7216, -0.1104, 2.6771, 2.6771, 2.6762, 2.676, 2.6749, 2.6749, 2.6746, 2.6744, 2.6741, 2.6739, 2.6738, 2.6737, 2.6734, 2.6733, 2.6732, 2.6727, 2.6722, 2.6721, 2.672, 2.6718, 2.6717, 2.6716, 2.6713, 2.6709, 2.6707, 2.6707, 2.6706, 2.6705, 2.6704, 2.6702, 1.8394, 1.1635, 1.1094, 2.8174, 2.8159, 2.8157, 2.8155, 2.8152, 2.8141, 2.8139, 2.8138, 2.8132, 2.8131, 2.813, 2.813, 2.8129, 2.8122, 2.8116, 2.8115, 2.8115, 2.8111, 2.8109, 2.8109, 2.8109, 2.8108, 2.8108, 2.8108, 2.8107, 2.8106, 2.8106, 2.8104, 2.8101, 2.8096, 2.8517, 2.8511, 2.8503, 2.8501, 2.85, 2.8497, 2.8497, 2.8494, 2.8485, 2.8484, 2.8483, 2.8482, 2.8477, 2.8477, 2.8464, 2.8463, 2.8462, 2.8458, 2.8458, 2.8457, 2.8454, 2.8453, 2.8452, 2.8448, 2.8446, 2.8442, 2.844, 2.8439, 2.8435, 2.8434, 2.9835, 2.9835, 2.9815, 2.9809, 2.9809, 2.9807, 2.9805, 2.98, 2.9797, 2.979, 2.9789, 2.9785, 2.9783, 2.9776, 2.9773, 2.9772, 2.9768, 2.9762, 2.976, 2.9758, 2.9756, 2.9755, 2.9753, 2.9752, 2.9745, 2.9743, 2.9742, 2.9741, 2.9731, 2.9725, 2.6763, 3.0332, 3.0331, 3.0327, 3.032, 3.0318, 3.0312, 3.0307, 3.0303, 3.03, 3.0292, 3.0291, 3.0286, 3.0277, 3.0273, 3.0271, 3.0271, 3.0267, 3.0266, 3.0266, 3.0264, 3.0262, 3.0257, 3.0256, 3.0255, 3.0254, 3.0253, 3.0253, 3.025, 3.0248, 3.0248, 2.8131, 1.298, 1.6316, 3.1811, 3.1808, 3.1795, 3.1791, 3.1791, 3.1784, 3.1779, 3.1774, 3.1773, 3.1769, 3.1763, 3.1763, 3.1762, 3.1762, 3.1751, 3.1746, 3.1746, 3.1743, 3.1741, 3.1735, 3.1722, 3.1721, 3.1719, 3.1713, 3.1709, 3.1702, 3.1699, 3.1692, 3.1688, 3.1677, 3.2002, 3.1977, 3.1977, 3.1973, 3.1973, 3.1973, 3.1969, 3.1965, 3.1963, 3.196, 3.1958, 3.1958, 3.1955, 3.1949, 3.1945, 3.1944, 3.1944, 3.1937, 3.1935, 3.1932, 3.193, 3.192, 3.1918, 3.1914, 3.1912, 3.1911, 3.1908, 3.1907, 3.1907, 3.1907, 2.3173, 0.474]}, \"token.table\": {\"Topic\": [9, 7, 6, 5, 8, 3, 3, 6, 9, 9, 3, 1, 2, 3, 10, 1, 5, 2, 10, 10, 1, 3, 4, 6, 1, 2, 3, 10, 1, 3, 1, 2, 3, 4, 7, 8, 10, 5, 1, 6, 9, 4, 2, 4, 2, 1, 7, 8, 1, 3, 7, 6, 2, 9, 1, 4, 9, 2, 1, 2, 10, 3, 3, 6, 4, 6, 5, 10, 1, 3, 2, 10, 2, 4, 3, 8, 9, 1, 10, 10, 2, 7, 1, 2, 3, 1, 2, 3, 4, 3, 9, 1, 2, 2, 9, 10, 2, 8, 6, 2, 7, 6, 7, 4, 3, 9, 2, 4, 6, 8, 9, 6, 9, 8, 9, 5, 4, 1, 2, 1, 6, 3, 8, 8, 2, 3, 2, 7, 1, 9, 9, 10, 6, 10, 3, 1, 4, 1, 1, 2, 4, 1, 6, 2, 7, 10, 3, 8, 2, 7, 8, 5, 10, 8, 7, 10, 7, 7, 1, 2, 6, 3, 4, 1, 4, 10, 1, 6, 10, 5, 6, 6, 3, 7, 2, 4, 10, 6, 1, 2, 8, 5, 5, 4, 7, 7, 6, 7, 5, 4, 9, 8, 1, 9, 3, 10, 4, 1, 3, 9, 1, 2, 8, 4, 7, 8, 3, 4, 8, 10, 2, 1, 2, 1, 2, 1, 6, 3, 1, 1, 2, 3, 7, 7, 3, 3, 8, 8, 9, 8, 6, 9, 2, 4, 3, 3, 3, 7, 1, 7, 10, 7, 2, 10, 10, 3, 6, 4, 3, 9, 1, 2, 9, 8, 3, 1, 2, 5, 5, 4, 1, 9, 3, 4, 10, 7, 1, 7, 4, 4, 3, 9, 7, 5, 3, 10, 9, 10, 1, 9, 9, 4, 3, 7, 5, 4, 2, 6, 5, 9, 4, 5, 10, 2, 7, 8, 7, 1, 5, 5, 8, 2, 5, 5, 1, 4, 7, 2, 5, 2, 10, 8, 7, 1, 6, 8, 1, 3, 4, 4, 6, 8, 1, 5, 9, 4, 2, 1, 2, 9, 5, 8, 3, 7, 2, 3, 8, 4, 10, 8, 6, 6, 8, 6, 9, 2, 6, 5, 1, 7, 8, 5, 8, 8, 5, 4, 10, 5, 4, 7, 2, 6, 10, 2, 5, 7, 5, 1, 6, 10, 1, 2, 6, 7, 1, 3, 7, 5, 2, 1, 2], \"Freq\": [0.9949603069557499, 0.9924648029404453, 0.9974428755510037, 0.993772219067525, 0.9918371222746671, 0.9980512422152636, 0.9980412523955985, 0.9889901888817766, 0.9904352952140281, 0.9908557688783475, 0.9958695101375862, 0.7048998851394739, 0.29168271109219607, 0.9934362493967607, 0.9919456624367561, 0.9965240045442011, 0.9927397613452361, 0.997571342268622, 0.9946370644644302, 0.9887345119691825, 0.9805448066023105, 0.01478208251159262, 0.9920394110816451, 0.9959171644468633, 0.9403938864212023, 0.027166934496612512, 0.03134646288070674, 0.987402261777395, 0.9970398591264463, 0.9975596663057876, 0.08578759480560172, 0.29946712542568943, 0.13210236991537444, 0.21999518177142038, 0.02105217050444214, 0.1757856237120919, 0.06526172856377063, 0.9982796602104653, 0.9973006698776079, 0.9955486971756102, 0.990099655465779, 0.9956771980742077, 0.9961606272616299, 0.9920838858763431, 0.9950914348017941, 0.9983316669569202, 0.9893432048013602, 0.9976659141682351, 0.8040822002858726, 0.04623059878440335, 0.1485983532355822, 0.9917010601318447, 0.9975054640224797, 0.9883844235916855, 0.9958562669133416, 0.9946175646062834, 0.995928549995306, 0.9959823804687487, 0.9910776509275364, 0.006858668864550425, 0.9956249633548528, 0.9984289718325725, 0.9962599545533526, 0.9899496540776647, 0.9904077658716032, 0.9875553831637189, 0.9961652580046442, 0.9884251997976667, 0.9975417181707809, 0.9963055884058817, 0.9934859864790655, 0.9936845190935915, 0.9951187666758033, 0.9960676216027127, 0.9939956122983219, 0.9973945777674637, 0.9939019160014614, 0.9970010341752554, 0.9958456906423617, 0.9946008346760745, 0.9962857089106976, 0.9936644968711997, 0.9599093220404938, 0.03036209534434652, 0.007006637387156889, 0.7193145366670667, 0.11601847365597849, 0.016875414349960507, 0.14765987556215446, 0.9941442538305596, 0.9966164705651029, 0.015837608134046284, 0.9833714868685102, 0.9977114449486518, 0.9910906758358187, 0.9943481726264933, 0.9963576362702735, 0.9958759833925687, 0.9968398097570192, 0.9968607230555576, 0.9859029997994995, 0.9889820826460329, 0.996787850130234, 0.9939976462263036, 0.9987522817863063, 0.9907247238838567, 0.9972235481300091, 0.9972073253975683, 0.9902961535593249, 0.9945525960818812, 0.9945008890737318, 0.987122388638367, 0.9850978326472087, 0.9965711659080903, 0.9909827738880362, 0.9916258961990342, 0.9985356641996311, 0.998166486378062, 0.994528762092548, 0.9974708241841115, 0.9937304672326904, 0.9971556894403087, 0.9879145921898861, 0.98788831219141, 0.9956499710940179, 0.9994420852013588, 0.9986353492023947, 0.9918947493764633, 0.9966990360232088, 0.982911872170428, 0.9922008743168786, 0.9940756045623427, 0.9902073659881623, 0.9942196376543073, 0.9985867429249204, 0.78993730884017, 0.20832188175205704, 0.9990823469546134, 0.5653495175009328, 0.0015638990802238802, 0.43241809568190287, 0.9981392811959255, 0.992724884675906, 0.9318736880624728, 0.03488297228041342, 0.03266818038959352, 0.9947060018967143, 0.9931352760863514, 0.9961427890187035, 0.1943056209131397, 0.802294176673609, 0.9954990704981043, 0.9899930425499459, 0.9951406077633327, 0.9927182809254547, 0.9955635963119703, 0.9969873694822624, 0.9936645524378273, 0.9192080117324257, 0.07183863679613985, 0.008163481454106801, 0.9962390099845401, 0.992356792894231, 0.9957774438319317, 0.9960156145410185, 0.9908965009686631, 0.9949599686878221, 0.9929678339521163, 0.9939127239436123, 0.9922965238440995, 0.9954836238424898, 0.9947124503337968, 0.9352551432493602, 0.06331769658105683, 0.9974209520046066, 0.9970791101925074, 0.9886725190369978, 0.9934318455995081, 0.02353681439929493, 0.9744241161308101, 0.9946287797701004, 0.9911713642000631, 0.9912517202413648, 0.006490639738166794, 0.9898225600704361, 0.9914897937383866, 0.9961177402277879, 0.9890627313375053, 0.9943534187967269, 0.9969040805638018, 0.9927555083246267, 0.9907284308198837, 0.99494855594242, 0.9876379027549619, 0.998322923248681, 0.9877611355580108, 0.9949784113772988, 0.9950020789591654, 0.9964414287095771, 0.9905268219430442, 0.9973279476085469, 0.9955587459812227, 0.9974422647600968, 0.9939640967495549, 0.9980604198435652, 0.9930701397080597, 0.7159712805352543, 0.03729017086121116, 0.24611512768399366, 0.9917196536462172, 0.996187943497385, 0.07293648922866434, 0.9252514633579134, 0.9837463962178906, 0.012547785666044524, 0.9950662139203542, 0.9922995992456389, 0.9942128324084288, 0.9968983066249596, 0.1551281818043175, 0.7546776412101933, 0.08804572480785589, 0.9945178662844985, 0.9918241229508235, 0.9965573426067883, 0.993872544639692, 0.9897936010339908, 0.9893884982987992, 0.9968613324820741, 0.9908672683238465, 0.9960702524283065, 0.9939101541377919, 0.9984723019772398, 0.9944233322832884, 0.9948009775548896, 0.9970621938990468, 0.2635844885197506, 0.7340686293184452, 0.9970634594551842, 0.9944718479686085, 0.9977442809409027, 0.9965197580408955, 0.9969902431462359, 0.99464002212613, 0.9899326994535349, 0.9960504109634013, 0.9969718362341837, 0.9923415333862692, 0.9935636029054139, 0.9958864402107886, 0.07659593237960435, 0.9208533203859101, 0.989036528990552, 0.9900181131345869, 0.9978297511868219, 0.9521567283023777, 0.045340796585827514, 0.9949837024932667, 0.9963713374968196, 0.9910420057076094, 0.9978635778766408, 0.9940819887552974, 0.9962998833912271, 0.9979440015650253, 0.9924136950515132, 0.9923533261551333, 0.9960031594984425, 0.9935716817709674, 0.9937818079269847, 0.9962673112353785, 0.9392639751301926, 0.05750595766103219, 0.9913926565734585, 0.9959801077726801, 0.9980616902896489, 0.9956548299098071, 0.9854593538422368, 0.9903647701768385, 0.998676445347288, 0.9918436737363869, 0.9930326236704321, 0.9945906958476931, 0.9982165311787585, 0.9922165216732701, 0.9900399542141726, 0.9935976106695971, 0.9940115367912852, 0.992341131818762, 0.9928044194284638, 0.9857685493959611, 0.9950797001197705, 0.9921521024612378, 0.9870188890177498, 0.965251138134265, 0.03374288936274444, 0.9969455270340908, 0.9886932953486193, 0.998641768098131, 0.9898103770001415, 0.9921385040979538, 0.9939798757941775, 0.9970889374284154, 0.9949240348560091, 0.9914854227899681, 0.9978363035821752, 0.996488450728689, 0.9886397515632077, 0.9958749353467069, 0.9895468794157243, 0.9969211750423121, 0.9891525065699335, 0.991783346442283, 0.9965402394369361, 0.9973862856668175, 0.9938342759010904, 0.9891542944531624, 0.8431300423266819, 0.09878463928752915, 0.05725733869531944, 0.9966960654302448, 0.9966996526479536, 0.9894235378490353, 0.9972749900531411, 0.9960195776941076, 0.9913778225332233, 0.994595105957339, 0.995370362265398, 0.9990615309103668, 0.994458516632395, 0.9956915642982687, 0.9924173942752285, 0.9938820179277092, 0.99587263213278, 0.9972422876150383, 0.06994648953945687, 0.9288893810839872, 0.9959466532589515, 0.9955093201921802, 0.9940413949973096, 0.9930720312195924, 0.9904742932892588, 0.9935085106336214, 0.9964757890697771, 0.9972172400368319, 0.9974411090728137, 0.9986962346116935, 0.9944002836033262, 0.9967078017407711, 0.9982062794302219, 0.9988629284099579, 0.9935843346878748, 0.992864861781486, 0.988362023686723, 0.9934291778762823, 0.9920169010548523, 0.9960043516461209, 0.9921648259513778, 0.9888501139360774, 0.9936678130196115, 0.9913198634745735, 0.4907806802968292, 0.09453562284406136, 0.4123362272985655, 0.9966499909593817, 0.9946419026265275, 0.9931222188662167, 0.9941126952266621, 0.997543151741865, 0.9936405106446082, 0.9936358051585883, 0.5483296511419952, 0.38255557056418266, 0.06800987921141025, 0.9898801432005252, 0.6952215143006876, 0.3041283536469055, 0.9918130854111415, 0.9974528199792725, 0.9986404326051701, 0.25637780389942844, 0.7425504596810635], \"Term\": [\"academy\", \"accidentally\", \"across\", \"action\", \"actor\", \"adventure\", \"agent\", \"ahead\", \"alice\", \"alien\", \"alone\", \"along\", \"along\", \"always\", \"ambitious\", \"american\", \"angeles\", \"another\", \"anything\", \"arm\", \"around\", \"around\", \"arrest\", \"arrive\", \"attempt\", \"attempt\", \"attempt\", \"balance\", \"base\", \"battle\", \"become\", \"become\", \"become\", \"become\", \"become\", \"become\", \"become\", \"begin\", \"behind\", \"beloved\", \"better\", \"beyond\", \"black\", \"blood\", \"boyfriend\", \"break\", \"brilliant\", \"bring\", \"brother\", \"brother\", \"brother\", \"california\", \"call\", \"captain\", \"career\", \"center\", \"challenge\", \"chance\", \"change\", \"change\", \"charlie\", \"child\", \"childhood\", \"choice\", \"choose\", \"chris\", \"christmas\", \"client\", \"college\", \"come\", \"community\", \"conflict\", \"confront\", \"continue\", \"convince\", \"could\", \"country\", \"couple\", \"course\", \"create\", \"crime\", \"curse\", \"dangerous\", \"dangerous\", \"dangerous\", \"daughter\", \"daughter\", \"daughter\", \"daughter\", \"david\", \"deadly\", \"death\", \"death\", \"decide\", \"defend\", \"demand\", \"desperate\", \"detective\", \"determine\", \"different\", \"difficult\", \"direct\", \"director\", \"disappear\", \"discover\", \"doctor\", \"dream\", \"earth\", \"eddie\", \"elite\", \"embark\", \"emily\", \"ending\", \"enemy\", \"engage\", \"enough\", \"escape\", \"event\", \"every\", \"everything\", \"existence\", \"experience\", \"experiment\", \"facing\", \"falls\", \"family\", \"father\", \"feature\", \"fight\", \"fighter\", \"fighting\", \"figure\", \"filmmaker\", \"finally\", \"find\", \"first\", \"first\", \"follow\", \"force\", \"force\", \"force\", \"former\", \"frank\", \"friend\", \"friend\", \"friend\", \"friendship\", \"fully\", \"future\", \"getting\", \"getting\", \"girlfriend\", \"given\", \"global\", \"grace\", \"great\", \"greatest\", \"green\", \"group\", \"group\", \"group\", \"happen\", \"harsh\", \"heart\", \"hero\", \"hire\", \"history\", \"holiday\", \"hope\", \"hostage\", \"hotel\", \"hours\", \"house\", \"house\", \"however\", \"human\", \"humanity\", \"hunter\", \"husband\", \"husband\", \"imagine\", \"impossible\", \"incident\", \"include\", \"include\", \"innocent\", \"inside\", \"international\", \"interview\", \"involve\", \"island\", \"jacob\", \"james\", \"join\", \"journey\", \"kevin\", \"kidnap\", \"kill\", \"killer\", \"knight\", \"know\", \"later\", \"lead\", \"leader\", \"learn\", \"legend\", \"life\", \"life\", \"life\", \"light\", \"little\", \"living\", \"living\", \"local\", \"local\", \"love\", \"magic\", \"making\", \"married\", \"meet\", \"meet\", \"meet\", \"member\", \"mexico\", \"michael\", \"middle\", \"mile\", \"military\", \"mission\", \"modern\", \"monster\", \"month\", \"mother\", \"mountain\", \"move\", \"movie\", \"murder\", \"murder\", \"music\", \"musical\", \"mysterious\", \"mystery\", \"name\", \"nearly\", \"neighborhood\", \"never\", \"night\", \"novel\", \"offer\", \"officer\", \"order\", \"order\", \"organization\", \"outrageous\", \"parent\", \"people\", \"people\", \"perfect\", \"peter\", \"phone\", \"place\", \"planet\", \"point\", \"power\", \"previously\", \"prince\", \"problem\", \"process\", \"professor\", \"promise\", \"protect\", \"protect\", \"queen\", \"quest\", \"realize\", \"receive\", \"redemption\", \"refuse\", \"relationship\", \"remote\", \"restore\", \"result\", \"return\", \"reveal\", \"revenge\", \"richard\", \"right\", \"robert\", \"romance\", \"runaway\", \"santa\", \"sarah\", \"scheme\", \"school\", \"school\", \"search\", \"second\", \"secret\", \"serial\", \"show\", \"sinister\", \"sister\", \"situation\", \"skill\", \"small\", \"soldier\", \"solve\", \"something\", \"special\", \"spend\", \"staff\", \"stage\", \"star\", \"start\", \"steal\", \"stick\", \"story\", \"story\", \"story\", \"strange\", \"street\", \"strength\", \"struggle\", \"student\", \"summon\", \"supernatural\", \"survive\", \"take\", \"taking\", \"target\", \"teacher\", \"team\", \"teenage\", \"teenager\", \"tell\", \"tell\", \"terrify\", \"there\", \"theyre\", \"thief\", \"think\", \"thought\", \"threat\", \"threaten\", \"three\", \"together\", \"trap\", \"truth\", \"try\", \"turn\", \"underground\", \"unexpectedly\", \"universe\", \"unleash\", \"unravel\", \"vacation\", \"veteran\", \"victim\", \"video\", \"violence\", \"want\", \"want\", \"want\", \"wealthy\", \"wedding\", \"weekend\", \"whether\", \"whose\", \"witch\", \"witness\", \"woman\", \"woman\", \"woman\", \"wonder\", \"world\", \"world\", \"worse\", \"yearold\", \"years\", \"young\", \"young\"]}, \"R\": 30, \"lambda.step\": 0.01, \"plot.opts\": {\"xlab\": \"PC1\", \"ylab\": \"PC2\"}, \"topic.order\": [8, 6, 3, 2, 9, 1, 5, 4, 10, 7]};\n",
       "\n",
       "function LDAvis_load_lib(url, callback){\n",
       "  var s = document.createElement('script');\n",
       "  s.src = url;\n",
       "  s.async = true;\n",
       "  s.onreadystatechange = s.onload = callback;\n",
       "  s.onerror = function(){console.warn(\"failed to load library \" + url);};\n",
       "  document.getElementsByTagName(\"head\")[0].appendChild(s);\n",
       "}\n",
       "\n",
       "if(typeof(LDAvis) !== \"undefined\"){\n",
       "   // already loaded: just create the visualization\n",
       "   !function(LDAvis){\n",
       "       new LDAvis(\"#\" + \"ldavis_el82922374718914848702276499\", ldavis_el82922374718914848702276499_data);\n",
       "   }(LDAvis);\n",
       "}else if(typeof define === \"function\" && define.amd){\n",
       "   // require.js is available: use it to load d3/LDAvis\n",
       "   require.config({paths: {d3: \"https://d3js.org/d3.v5\"}});\n",
       "   require([\"d3\"], function(d3){\n",
       "      window.d3 = d3;\n",
       "      LDAvis_load_lib(\"https://cdn.jsdelivr.net/gh/bmabey/pyLDAvis@3.3.1/pyLDAvis/js/ldavis.v3.0.0.js\", function(){\n",
       "        new LDAvis(\"#\" + \"ldavis_el82922374718914848702276499\", ldavis_el82922374718914848702276499_data);\n",
       "      });\n",
       "    });\n",
       "}else{\n",
       "    // require.js not available: dynamically load d3 & LDAvis\n",
       "    LDAvis_load_lib(\"https://d3js.org/d3.v5.js\", function(){\n",
       "         LDAvis_load_lib(\"https://cdn.jsdelivr.net/gh/bmabey/pyLDAvis@3.3.1/pyLDAvis/js/ldavis.v3.0.0.js\", function(){\n",
       "                 new LDAvis(\"#\" + \"ldavis_el82922374718914848702276499\", ldavis_el82922374718914848702276499_data);\n",
       "            })\n",
       "         });\n",
       "}\n",
       "</script>"
      ],
      "text/plain": [
       "PreparedData(topic_coordinates=              x         y  topics  cluster       Freq\n",
       "topic                                                \n",
       "7      0.184250  0.089297       1        1  28.918304\n",
       "5      0.114426  0.273882       2        1  19.641052\n",
       "2      0.135000 -0.290405       3        1  14.774278\n",
       "1      0.143704 -0.015621       4        1   6.865960\n",
       "8     -0.275941 -0.070089       5        1   5.967977\n",
       "0     -0.189346  0.149433       6        1   5.760007\n",
       "4      0.027864 -0.054193       7        1   5.052469\n",
       "3      0.056095 -0.121971       8        1   4.806316\n",
       "9     -0.183030 -0.067526       9        1   4.144961\n",
       "6     -0.013023  0.107191      10        1   4.068675, topic_info=            Term         Freq        Total Category  logprob  loglift\n",
       "175       family  2352.000000  2352.000000  Default  30.0000  30.0000\n",
       "536        begin   928.000000   928.000000  Default  29.0000  29.0000\n",
       "993   mysterious   784.000000   784.000000  Default  28.0000  28.0000\n",
       "268       escape   863.000000   863.000000  Default  27.0000  27.0000\n",
       "101       friend  1806.000000  1806.000000  Default  26.0000  26.0000\n",
       "...          ...          ...          ...      ...      ...      ...\n",
       "465        kevin   114.135779   115.412518  Topic10  -4.5889   3.1907\n",
       "2580   ambitious   113.648862   114.925650  Topic10  -4.5932   3.1907\n",
       "1264  previously   113.594144   114.871450  Topic10  -4.5937   3.1907\n",
       "29          want   205.281560   497.167085  Topic10  -4.0019   2.3173\n",
       "97        become   124.185745  1900.041613  Topic10  -4.5045   0.4740\n",
       "\n",
       "[371 rows x 6 columns], token_table=      Topic      Freq          Term\n",
       "term                               \n",
       "1935      9  0.994960       academy\n",
       "1918      7  0.992465  accidentally\n",
       "275       6  0.997443        across\n",
       "1446      5  0.993772        action\n",
       "482       8  0.991837         actor\n",
       "...     ...       ...           ...\n",
       "787       7  0.991813         worse\n",
       "230       5  0.997453       yearold\n",
       "31        2  0.998640         years\n",
       "66        1  0.256378         young\n",
       "66        2  0.742550         young\n",
       "\n",
       "[381 rows x 3 columns], R=30, lambda_step=0.01, plot_opts={'xlab': 'PC1', 'ylab': 'PC2'}, topic_order=[8, 6, 3, 2, 9, 1, 5, 4, 10, 7])"
      ]
     },
     "execution_count": 20,
     "metadata": {},
     "output_type": "execute_result"
    }
   ],
   "source": [
    "vis = pyLDAvis.gensim_models.prepare(lda_model, corpus, dictionary)\n",
    "vis"
   ]
  },
  {
   "cell_type": "markdown",
   "id": "8f45465a",
   "metadata": {},
   "source": [
    "### Coherence and hyperparameters"
   ]
  },
  {
   "cell_type": "code",
   "execution_count": 21,
   "id": "a04c3b77",
   "metadata": {},
   "outputs": [
    {
     "name": "stdout",
     "output_type": "stream",
     "text": [
      "Coherence Score:  0.26060625543683913\n"
     ]
    }
   ],
   "source": [
    "# Baseline coherence score:\n",
    "\n",
    "from gensim.models import CoherenceModel\n",
    "\n",
    "# Compute Coherence Score\n",
    "coherence_model_lda = CoherenceModel(model=lda_model, texts=processed_df, dictionary=dictionary, coherence='c_v')\n",
    "coherence_lda = coherence_model_lda.get_coherence()\n",
    "print('Coherence Score: ', coherence_lda)"
   ]
  },
  {
   "cell_type": "code",
   "execution_count": 22,
   "id": "d4d36108",
   "metadata": {},
   "outputs": [],
   "source": [
    "# supporting function\n",
    "def compute_coherence_values(corpus, dictionary, k, a, b):\n",
    "    \n",
    "    lda_model = gensim.models.LdaMulticore(corpus=corpus,\n",
    "                                           id2word=dictionary,\n",
    "                                           num_topics=k, \n",
    "                                           random_state=100,\n",
    "                                           chunksize=100,\n",
    "                                           passes=10,\n",
    "                                           alpha=a,\n",
    "                                           eta=b)\n",
    "    \n",
    "    coherence_model_lda = CoherenceModel(model=lda_model, texts=processed_df, dictionary=dictionary, coherence='c_v')\n",
    "    \n",
    "    return coherence_model_lda.get_coherence()"
   ]
  },
  {
   "cell_type": "code",
   "execution_count": null,
   "id": "f0a990f6",
   "metadata": {},
   "outputs": [],
   "source": [
    "import numpy as np\n",
    "import tqdm\n",
    "\n",
    "grid = {}\n",
    "grid['Validation_Set'] = {}\n",
    "\n",
    "# Topics range\n",
    "min_topics = 2\n",
    "max_topics = 11\n",
    "step_size = 1\n",
    "topics_range = range(min_topics, max_topics, step_size)\n",
    "\n",
    "# Alpha parameter\n",
    "alpha = list(np.arange(0.01, 1, 0.3))\n",
    "alpha.append('symmetric')\n",
    "alpha.append('asymmetric')\n",
    "\n",
    "# Beta parameter\n",
    "beta = list(np.arange(0.01, 1, 0.3))\n",
    "beta.append('symmetric')\n",
    "\n",
    "# Validation sets\n",
    "num_of_docs = len(corpus)\n",
    "corpus_sets = [gensim.utils.ClippedCorpus(corpus, int(num_of_docs*0.75)), \n",
    "               corpus]\n",
    "\n",
    "corpus_title = ['75% Corpus', '100% Corpus']\n",
    "\n",
    "model_results = {'Validation_Set': [],\n",
    "                 'Topics': [],\n",
    "                 'Alpha': [],\n",
    "                 'Beta': [],\n",
    "                 'Coherence': []\n",
    "                }\n",
    "\n",
    "# Can take a long time to run\n",
    "if 1 == 1:\n",
    "    pbar = tqdm.tqdm(total=(len(beta)*len(alpha)*len(topics_range)*len(corpus_title)))\n",
    "    \n",
    "    # iterate through validation corpuses\n",
    "    for i in range(len(corpus_sets)):\n",
    "        # iterate through number of topics\n",
    "        for k in topics_range:\n",
    "            # iterate through alpha values\n",
    "            for a in alpha:\n",
    "                # iterare through beta values\n",
    "                for b in beta:\n",
    "                    # get the coherence score for the given parameters\n",
    "                    cv = compute_coherence_values(corpus=corpus_sets[i], dictionary=dictionary, \n",
    "                                                  k=k, a=a, b=b)\n",
    "                    # Save the model results\n",
    "                    model_results['Validation_Set'].append(corpus_title[i])\n",
    "                    model_results['Topics'].append(k)\n",
    "                    model_results['Alpha'].append(a)\n",
    "                    model_results['Beta'].append(b)\n",
    "                    model_results['Coherence'].append(cv)\n",
    "                    \n",
    "                    pbar.update(1)\n",
    "    pd.DataFrame(model_results).to_csv('./results/lda_tuning_results.csv', index=False)\n",
    "    pbar.close()"
   ]
  },
  {
   "cell_type": "markdown",
   "id": "188e6520",
   "metadata": {},
   "source": [
    "## Scikit version\n",
    "\n",
    "https://github.com/rfhussain/Topic-Modeling-with-Python-Scikit-LDA/blob/master/source/lda_test.py\n",
    "\n"
   ]
  },
  {
   "cell_type": "code",
   "execution_count": null,
   "id": "f2655824",
   "metadata": {},
   "outputs": [],
   "source": [
    "from sklearn.feature_extraction.text import CountVectorizer\n",
    "from sklearn.decomposition import LatentDirichletAllocation\n",
    "import random"
   ]
  },
  {
   "cell_type": "code",
   "execution_count": null,
   "id": "c500f0a7",
   "metadata": {},
   "outputs": [],
   "source": [
    "#initializing the count vectorizer\n",
    "#max document frequencey means that the percentage of max frequency shuld be less than 90% of any word across documents\n",
    "#min document frequencey is an integer, means that a word must occur at least 2 or more times to be counted\n",
    "#stop words will be automatically tackled through sklearn \n",
    "cv = CountVectorizer(max_df=0.9, min_df=2, stop_words='english')"
   ]
  },
  {
   "cell_type": "code",
   "execution_count": null,
   "id": "6211671f",
   "metadata": {},
   "outputs": [],
   "source": [
    "#the fit transform method will return a sparse matrix (numberofariticles x totalwords)\n",
    "dtm  = cv.fit_transform(df_new['Plot'])"
   ]
  },
  {
   "cell_type": "code",
   "execution_count": null,
   "id": "3a1c7e7a",
   "metadata": {},
   "outputs": [],
   "source": [
    "#initialize the LDA, n_components =10 means that we are opting for 10 distinct topics\n",
    "#the n_components depends upon how big is the repository and how many topics you want to discover\n",
    "#keep the random state as 42\n",
    "LDA = LatentDirichletAllocation(n_components=10, random_state=42)"
   ]
  },
  {
   "cell_type": "code",
   "execution_count": null,
   "id": "dd09223d",
   "metadata": {},
   "outputs": [],
   "source": [
    "#fit the model into lda\n",
    "LDA.fit(dtm)\n",
    "\n",
    "#grab the vocabulary of words\n",
    "#get the random words \n",
    "random_int = random.randint(0,5477)\n",
    "\n",
    "cv.get_feature_names()[random_int] #this function will get the words from the document\n",
    "\n",
    "#grab the topics\n",
    "single_topic = LDA.components_[0]\n",
    "\n",
    "\n",
    "#this way we can get index position for high probablity topics SORTED by probablity in ASC order\n",
    "top_10_words = single_topic.argsort()[-10:] #to get the last 10 highest probablity words for this topic\n",
    "\n"
   ]
  },
  {
   "cell_type": "code",
   "execution_count": null,
   "id": "e13680b5",
   "metadata": {},
   "outputs": [],
   "source": [
    "for index in top_10_words:\n",
    "    print(cv.get_feature_names()[index])\n",
    "    \n",
    "#grab the highest probablity words per topic\n",
    "for i, topic in enumerate(LDA.components_):\n",
    "    print(f\"The top 15 words for the topic #{i}\")\n",
    "    print([cv.get_feature_names()[index] for index in topic.argsort()[-10:]]) \n",
    "    print(\"\\n\")\n",
    "    print(\"\\n\")\n",
    "\n",
    "\n",
    "#attach the topic number to the original topics\n",
    "topic_results = LDA.transform(dtm)\n",
    "\n",
    "topic_results[0]"
   ]
  }
 ],
 "metadata": {
  "kernelspec": {
   "display_name": "Python 3 (ipykernel)",
   "language": "python",
   "name": "python3"
  },
  "language_info": {
   "codemirror_mode": {
    "name": "ipython",
    "version": 3
   },
   "file_extension": ".py",
   "mimetype": "text/x-python",
   "name": "python",
   "nbconvert_exporter": "python",
   "pygments_lexer": "ipython3",
   "version": "3.9.12"
  }
 },
 "nbformat": 4,
 "nbformat_minor": 5
}
